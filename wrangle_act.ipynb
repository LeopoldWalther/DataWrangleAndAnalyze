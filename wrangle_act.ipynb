{
 "cells": [
  {
   "cell_type": "markdown",
   "metadata": {},
   "source": [
    "# Wrangle and Analyze Data of a Twitter Account\n",
    "\n",
    "\n",
    "## Table of Contents\n",
    "- [0. Introduction](#intro)\n",
    "- [1. Gather data](#gather)\n",
    "- [2. Assess data](#assess)\n",
    "- [3. Clean data](#clean)\n",
    "- [4. Analysis & Visualization](#analysis)\n",
    "\n",
    "\n",
    "<a id='gather'></a>\n",
    "## 0. Introduction\n",
    "\n",
    "This project is an analysis of the WeRateDog account. Main goal of this project is to follow through the complete Data Analysis process. Firstly data is gathered from different sources: a local csv-file, a programmatically downloaded file and data downloaded via the twitter API. Secondly the data from the different sources is visually and programmatically assessed to be cleaned in the next step for the final analysis. The analysis compares the ratings, retweets and favorites of different dog stages and races."
   ]
  },
  {
   "cell_type": "code",
   "execution_count": 848,
   "metadata": {},
   "outputs": [],
   "source": [
    "# Import necessary libraries\n",
    "import numpy as np\n",
    "import pandas as pd\n",
    "import requests # to download files programmatically \n",
    "import os # to work with local directory\n",
    "import tweepy # for twitter-api\n",
    "import time # for timer \n",
    "import json # to create json file from python dictionary\n",
    "import re"
   ]
  },
  {
   "cell_type": "markdown",
   "metadata": {},
   "source": [
    "<a id='intro'></a>\n",
    "## 1. Gather data"
   ]
  },
  {
   "cell_type": "markdown",
   "metadata": {},
   "source": [
    "####  Data is gathered from three different sources of data as described in steps below:\n",
    "\n",
    "1. The WeRateDogs Twitter archive. File `twitter_archive_enhanced.csv` as comma separated file in local directory.\n",
    "2. The tweet image predictions, i.e., what breed of dog (or other object, animal, etc.) is present in each tweet according to a neural network. This file (image_predictions.tsv) is hosted on Udacity's servers at [URL](https://d17h27t6h515a5.cloudfront.net/topher/2017/August/599fd2ad_image-predictions/image-predictions.tsv).\n",
    "3. Each tweet's retweet count and favorite (\"like\") count. Using the tweet IDs in the WeRateDogs Twitter archive,  the Twitter API is queried for each tweet's JSON data using Python's Tweepy library and each tweet's entire set of JSON data is stored in a file called tweet_json.txt file. Each tweet's JSON data is written to its own line. Then this .txt file is read line by line into a pandas DataFrame with tweet ID, retweet count, and favorite count."
   ]
  },
  {
   "cell_type": "markdown",
   "metadata": {},
   "source": [
    "### a. Read data from csv-file"
   ]
  },
  {
   "cell_type": "code",
   "execution_count": 490,
   "metadata": {},
   "outputs": [],
   "source": [
    "# Read WeRateDogs Twitter archive from csv\n",
    "df_twitter_archive_enhanced = pd.read_csv('twitter-archive-enhanced.csv')"
   ]
  },
  {
   "cell_type": "markdown",
   "metadata": {},
   "source": [
    "### b. Programmatically download file from url"
   ]
  },
  {
   "cell_type": "code",
   "execution_count": 491,
   "metadata": {},
   "outputs": [],
   "source": [
    "# Create request-object with url of file\n",
    "url = 'https://d17h27t6h515a5.cloudfront.net/topher/2017/August/599fd2ad_image-predictions/image-predictions.tsv'\n",
    "response = requests.get(url)"
   ]
  },
  {
   "cell_type": "code",
   "execution_count": 492,
   "metadata": {},
   "outputs": [],
   "source": [
    "# Create file with content of response-object\n",
    "with open(url.split('/')[-1], mode='wb') as file: \n",
    "    file.write(response.content)"
   ]
  },
  {
   "cell_type": "code",
   "execution_count": 493,
   "metadata": {},
   "outputs": [],
   "source": [
    "# Read tweet image predictions from tsv\n",
    "df_image_predictions = pd.read_csv(url.split('/')[-1], sep='\\t')"
   ]
  },
  {
   "cell_type": "markdown",
   "metadata": {},
   "source": [
    "### c. Query additional information for tweets via Twitter API"
   ]
  },
  {
   "cell_type": "code",
   "execution_count": 494,
   "metadata": {},
   "outputs": [],
   "source": [
    "# Define credentials for twitter api\n",
    "try:\n",
    "    with open(\"pw.json\", \"r\") as read_file:\n",
    "        pw = json.load(read_file)\n",
    "\n",
    "# Catch exception, if file doesn't exist\n",
    "except FileNotFoundError as fnf_error:\n",
    "    print(fnf_error)\n",
    "    print('File pw.json with twitter credentials missing')\n",
    "    \n",
    "consumer_key = pw['consumer_key']\n",
    "consumer_secret = pw['consumer_secret']\n",
    "access_token = pw['access_token']\n",
    "access_secret = pw['access_secret']"
   ]
  },
  {
   "cell_type": "code",
   "execution_count": 495,
   "metadata": {},
   "outputs": [],
   "source": [
    "# Initiate session with Twitter API\n",
    "auth = tweepy.OAuthHandler(consumer_key, consumer_secret)\n",
    "auth.set_access_token(access_token, access_secret)\n",
    "api = tweepy.API(auth)"
   ]
  },
  {
   "cell_type": "code",
   "execution_count": 496,
   "metadata": {},
   "outputs": [
    {
     "name": "stderr",
     "output_type": "stream",
     "text": [
      "Rate limit reached. Sleeping for: 690\n",
      "Rate limit reached. Sleeping for: 710\n"
     ]
    },
    {
     "name": "stdout",
     "output_type": "stream",
     "text": [
      "1928.3107409477234\n"
     ]
    }
   ],
   "source": [
    "# Query for every tweet id in enhanced twitter archive and save tweet-information in json-format to 'tweet_json.txt'\n",
    "tweet_jsons = {}\n",
    "tweet_id_errors = []\n",
    "start = time.time()\n",
    "count = 0\n",
    "\n",
    "\n",
    "with open('tweet_json.txt', 'w') as outfile:\n",
    "    \n",
    "    for tweet_id in df_twitter_archive_enhanced['tweet_id']:\n",
    "        count +=1\n",
    "        try:\n",
    "            # Query API for data of tweet id, setting tweet_mode parameter to 'extended'\n",
    "            tweet = api.get_status(tweet_id, tweet_mode='extended', wait_on_rate_limit=True, wait_on_rate_limit_notify=True)\n",
    "            # Measure elapsed time\n",
    "            mid_s = time.time()\n",
    "            # Print id and time elapsed\n",
    "            ## print(str(count) + \": \" + str(tweet_id) + \" was successfully queried at \" + str(mid_s - start) )\n",
    "            # Write json of tweet to 'tweet_json.txt'\n",
    "            json.dump(tweet._json, outfile)\n",
    "            # New line\n",
    "            outfile.write(\"\\n\")\n",
    "\n",
    "        # Not best practice to catch all exceptions but fine for this short script\n",
    "        except Exception as error:\n",
    "            mid_f = time.time()\n",
    "            ## print(str(count) + \": \" + str(tweet_id) + \" could not be queried \" + str(mid_f - start) + str(error))\n",
    "            # Gather ids of id's without status\n",
    "            tweet_id_errors.append([count, str(tweet_id)])\n",
    "            \n",
    "    end = time.time()\n",
    "    print(end - start)\n",
    "df_tweet_id_errors = pd.DataFrame(tweet_id_errors, columns=['tweet_index', 'tweet_id'])"
   ]
  },
  {
   "cell_type": "code",
   "execution_count": 497,
   "metadata": {},
   "outputs": [],
   "source": [
    "# Create empty list\n",
    "tweet_api_info = []\n",
    "\n",
    "# Open file with handle as best practice and for every json-object append interesting info to tweet_api_info\n",
    "try:\n",
    "    with open('tweet_json.txt') as file:\n",
    "        \n",
    "        for jsonObj in file:\n",
    "            tweet = json.loads(jsonObj)\n",
    "            tweet_api_info.append([tweet['id'], tweet['retweet_count'], tweet['favorite_count']])\n",
    "\n",
    "# Catch exception, if file doesn't exist\n",
    "except FileNotFoundError as fnf_error:\n",
    "    print(fnf_error)\n",
    "\n",
    "# Convert list to pandas dataframe\n",
    "df_tweet_api_info = pd.DataFrame(tweet_api_info, columns=['tweet_id', 'retweet_count', 'favorite_count'])"
   ]
  },
  {
   "cell_type": "code",
   "execution_count": 498,
   "metadata": {},
   "outputs": [],
   "source": [
    "# For development purposes store api-info to csv\n",
    "df_tweet_api_info.to_csv('df_tweet_api_info.csv', encoding='utf-8')"
   ]
  },
  {
   "cell_type": "markdown",
   "metadata": {},
   "source": [
    "<a id='assess'></a>\n",
    "## 2. Assess data"
   ]
  },
  {
   "cell_type": "markdown",
   "metadata": {},
   "source": [
    "After gathering each of the above pieces of data, they are assessed visually and programmatically for quality and tidiness issues. Requirements to be met:\n",
    "\n",
    "- Quality requirements:\n",
    "    - Completeness: All necessary records in dataframes, no specific rows, columns or cells missing.\n",
    "    - Validity: No records available, that do not conform schema.\n",
    "    - Accuracy: No wrong data, that is valid.\n",
    "    - Consistency: No data, that is valid and accurate, but referred to in multiple correct ways.\n",
    "- Tidiniss requirements (as defined by Hadley Wickham):\n",
    "    - each variable is a column\n",
    "    - each observation is a row\n",
    "    - each type of observational unit is a table."
   ]
  },
  {
   "cell_type": "markdown",
   "metadata": {},
   "source": [
    "### a. Visual assessment"
   ]
  },
  {
   "cell_type": "code",
   "execution_count": 499,
   "metadata": {},
   "outputs": [
    {
     "data": {
      "text/html": [
       "<div>\n",
       "<style scoped>\n",
       "    .dataframe tbody tr th:only-of-type {\n",
       "        vertical-align: middle;\n",
       "    }\n",
       "\n",
       "    .dataframe tbody tr th {\n",
       "        vertical-align: top;\n",
       "    }\n",
       "\n",
       "    .dataframe thead th {\n",
       "        text-align: right;\n",
       "    }\n",
       "</style>\n",
       "<table border=\"1\" class=\"dataframe\">\n",
       "  <thead>\n",
       "    <tr style=\"text-align: right;\">\n",
       "      <th></th>\n",
       "      <th>tweet_id</th>\n",
       "      <th>in_reply_to_status_id</th>\n",
       "      <th>in_reply_to_user_id</th>\n",
       "      <th>timestamp</th>\n",
       "      <th>source</th>\n",
       "      <th>text</th>\n",
       "      <th>retweeted_status_id</th>\n",
       "      <th>retweeted_status_user_id</th>\n",
       "      <th>retweeted_status_timestamp</th>\n",
       "      <th>expanded_urls</th>\n",
       "      <th>rating_numerator</th>\n",
       "      <th>rating_denominator</th>\n",
       "      <th>name</th>\n",
       "      <th>doggo</th>\n",
       "      <th>floofer</th>\n",
       "      <th>pupper</th>\n",
       "      <th>puppo</th>\n",
       "    </tr>\n",
       "  </thead>\n",
       "  <tbody>\n",
       "    <tr>\n",
       "      <th>317</th>\n",
       "      <td>834786237630337024</td>\n",
       "      <td>NaN</td>\n",
       "      <td>NaN</td>\n",
       "      <td>2017-02-23 15:25:23 +0000</td>\n",
       "      <td>&lt;a href=\"http://twitter.com/download/iphone\" r...</td>\n",
       "      <td>This is Tobi. She is properly fetching her sho...</td>\n",
       "      <td>NaN</td>\n",
       "      <td>NaN</td>\n",
       "      <td>NaN</td>\n",
       "      <td>https://twitter.com/dog_rates/status/834786237...</td>\n",
       "      <td>13</td>\n",
       "      <td>10</td>\n",
       "      <td>Tobi</td>\n",
       "      <td>None</td>\n",
       "      <td>None</td>\n",
       "      <td>None</td>\n",
       "      <td>None</td>\n",
       "    </tr>\n",
       "    <tr>\n",
       "      <th>373</th>\n",
       "      <td>828376505180889089</td>\n",
       "      <td>NaN</td>\n",
       "      <td>NaN</td>\n",
       "      <td>2017-02-05 22:55:23 +0000</td>\n",
       "      <td>&lt;a href=\"http://twitter.com/download/iphone\" r...</td>\n",
       "      <td>This is Beebop. Her name means \"Good Dog\" in r...</td>\n",
       "      <td>NaN</td>\n",
       "      <td>NaN</td>\n",
       "      <td>NaN</td>\n",
       "      <td>https://twitter.com/dog_rates/status/828376505...</td>\n",
       "      <td>13</td>\n",
       "      <td>10</td>\n",
       "      <td>Beebop</td>\n",
       "      <td>None</td>\n",
       "      <td>None</td>\n",
       "      <td>None</td>\n",
       "      <td>None</td>\n",
       "    </tr>\n",
       "    <tr>\n",
       "      <th>1671</th>\n",
       "      <td>682393905736888321</td>\n",
       "      <td>NaN</td>\n",
       "      <td>NaN</td>\n",
       "      <td>2015-12-31 02:52:40 +0000</td>\n",
       "      <td>&lt;a href=\"http://twitter.com/download/iphone\" r...</td>\n",
       "      <td>This is Kreg. He's riding an invisible jet ski...</td>\n",
       "      <td>NaN</td>\n",
       "      <td>NaN</td>\n",
       "      <td>NaN</td>\n",
       "      <td>https://twitter.com/dog_rates/status/682393905...</td>\n",
       "      <td>11</td>\n",
       "      <td>10</td>\n",
       "      <td>Kreg</td>\n",
       "      <td>None</td>\n",
       "      <td>None</td>\n",
       "      <td>None</td>\n",
       "      <td>None</td>\n",
       "    </tr>\n",
       "    <tr>\n",
       "      <th>2054</th>\n",
       "      <td>671390180817915904</td>\n",
       "      <td>NaN</td>\n",
       "      <td>NaN</td>\n",
       "      <td>2015-11-30 18:07:47 +0000</td>\n",
       "      <td>&lt;a href=\"http://twitter.com/download/iphone\" r...</td>\n",
       "      <td>Striped dog here. Having fun playing on back. ...</td>\n",
       "      <td>NaN</td>\n",
       "      <td>NaN</td>\n",
       "      <td>NaN</td>\n",
       "      <td>https://twitter.com/dog_rates/status/671390180...</td>\n",
       "      <td>7</td>\n",
       "      <td>10</td>\n",
       "      <td>None</td>\n",
       "      <td>None</td>\n",
       "      <td>None</td>\n",
       "      <td>None</td>\n",
       "      <td>None</td>\n",
       "    </tr>\n",
       "    <tr>\n",
       "      <th>354</th>\n",
       "      <td>831262627380748289</td>\n",
       "      <td>NaN</td>\n",
       "      <td>NaN</td>\n",
       "      <td>2017-02-13 22:03:49 +0000</td>\n",
       "      <td>&lt;a href=\"http://twitter.com/download/iphone\" r...</td>\n",
       "      <td>This is Tucker. He's feeling h*ckin festive an...</td>\n",
       "      <td>NaN</td>\n",
       "      <td>NaN</td>\n",
       "      <td>NaN</td>\n",
       "      <td>https://twitter.com/dog_rates/status/831262627...</td>\n",
       "      <td>12</td>\n",
       "      <td>10</td>\n",
       "      <td>Tucker</td>\n",
       "      <td>None</td>\n",
       "      <td>None</td>\n",
       "      <td>None</td>\n",
       "      <td>None</td>\n",
       "    </tr>\n",
       "  </tbody>\n",
       "</table>\n",
       "</div>"
      ],
      "text/plain": [
       "                tweet_id  in_reply_to_status_id  in_reply_to_user_id  \\\n",
       "317   834786237630337024                    NaN                  NaN   \n",
       "373   828376505180889089                    NaN                  NaN   \n",
       "1671  682393905736888321                    NaN                  NaN   \n",
       "2054  671390180817915904                    NaN                  NaN   \n",
       "354   831262627380748289                    NaN                  NaN   \n",
       "\n",
       "                      timestamp  \\\n",
       "317   2017-02-23 15:25:23 +0000   \n",
       "373   2017-02-05 22:55:23 +0000   \n",
       "1671  2015-12-31 02:52:40 +0000   \n",
       "2054  2015-11-30 18:07:47 +0000   \n",
       "354   2017-02-13 22:03:49 +0000   \n",
       "\n",
       "                                                 source  \\\n",
       "317   <a href=\"http://twitter.com/download/iphone\" r...   \n",
       "373   <a href=\"http://twitter.com/download/iphone\" r...   \n",
       "1671  <a href=\"http://twitter.com/download/iphone\" r...   \n",
       "2054  <a href=\"http://twitter.com/download/iphone\" r...   \n",
       "354   <a href=\"http://twitter.com/download/iphone\" r...   \n",
       "\n",
       "                                                   text  retweeted_status_id  \\\n",
       "317   This is Tobi. She is properly fetching her sho...                  NaN   \n",
       "373   This is Beebop. Her name means \"Good Dog\" in r...                  NaN   \n",
       "1671  This is Kreg. He's riding an invisible jet ski...                  NaN   \n",
       "2054  Striped dog here. Having fun playing on back. ...                  NaN   \n",
       "354   This is Tucker. He's feeling h*ckin festive an...                  NaN   \n",
       "\n",
       "      retweeted_status_user_id retweeted_status_timestamp  \\\n",
       "317                        NaN                        NaN   \n",
       "373                        NaN                        NaN   \n",
       "1671                       NaN                        NaN   \n",
       "2054                       NaN                        NaN   \n",
       "354                        NaN                        NaN   \n",
       "\n",
       "                                          expanded_urls  rating_numerator  \\\n",
       "317   https://twitter.com/dog_rates/status/834786237...                13   \n",
       "373   https://twitter.com/dog_rates/status/828376505...                13   \n",
       "1671  https://twitter.com/dog_rates/status/682393905...                11   \n",
       "2054  https://twitter.com/dog_rates/status/671390180...                 7   \n",
       "354   https://twitter.com/dog_rates/status/831262627...                12   \n",
       "\n",
       "      rating_denominator    name doggo floofer pupper puppo  \n",
       "317                   10    Tobi  None    None   None  None  \n",
       "373                   10  Beebop  None    None   None  None  \n",
       "1671                  10    Kreg  None    None   None  None  \n",
       "2054                  10    None  None    None   None  None  \n",
       "354                   10  Tucker  None    None   None  None  "
      ]
     },
     "execution_count": 499,
     "metadata": {},
     "output_type": "execute_result"
    }
   ],
   "source": [
    "# Assess df_twitter_archive_enhanced visually\n",
    "df_twitter_archive_enhanced.sample(n=5)"
   ]
  },
  {
   "cell_type": "code",
   "execution_count": 500,
   "metadata": {},
   "outputs": [
    {
     "data": {
      "text/html": [
       "<div>\n",
       "<style scoped>\n",
       "    .dataframe tbody tr th:only-of-type {\n",
       "        vertical-align: middle;\n",
       "    }\n",
       "\n",
       "    .dataframe tbody tr th {\n",
       "        vertical-align: top;\n",
       "    }\n",
       "\n",
       "    .dataframe thead th {\n",
       "        text-align: right;\n",
       "    }\n",
       "</style>\n",
       "<table border=\"1\" class=\"dataframe\">\n",
       "  <thead>\n",
       "    <tr style=\"text-align: right;\">\n",
       "      <th></th>\n",
       "      <th>tweet_id</th>\n",
       "      <th>jpg_url</th>\n",
       "      <th>img_num</th>\n",
       "      <th>p1</th>\n",
       "      <th>p1_conf</th>\n",
       "      <th>p1_dog</th>\n",
       "      <th>p2</th>\n",
       "      <th>p2_conf</th>\n",
       "      <th>p2_dog</th>\n",
       "      <th>p3</th>\n",
       "      <th>p3_conf</th>\n",
       "      <th>p3_dog</th>\n",
       "    </tr>\n",
       "  </thead>\n",
       "  <tbody>\n",
       "    <tr>\n",
       "      <th>338</th>\n",
       "      <td>672239279297454080</td>\n",
       "      <td>https://pbs.twimg.com/media/CVRGDrsWsAAUWSF.jpg</td>\n",
       "      <td>1</td>\n",
       "      <td>pug</td>\n",
       "      <td>0.332536</td>\n",
       "      <td>True</td>\n",
       "      <td>French_bulldog</td>\n",
       "      <td>0.258124</td>\n",
       "      <td>True</td>\n",
       "      <td>bull_mastiff</td>\n",
       "      <td>0.120873</td>\n",
       "      <td>True</td>\n",
       "    </tr>\n",
       "    <tr>\n",
       "      <th>717</th>\n",
       "      <td>685663452032069632</td>\n",
       "      <td>https://pbs.twimg.com/ext_tw_video_thumb/68566...</td>\n",
       "      <td>1</td>\n",
       "      <td>Chesapeake_Bay_retriever</td>\n",
       "      <td>0.171174</td>\n",
       "      <td>True</td>\n",
       "      <td>tennis_ball</td>\n",
       "      <td>0.090644</td>\n",
       "      <td>False</td>\n",
       "      <td>racket</td>\n",
       "      <td>0.048508</td>\n",
       "      <td>False</td>\n",
       "    </tr>\n",
       "    <tr>\n",
       "      <th>1416</th>\n",
       "      <td>771136648247640064</td>\n",
       "      <td>https://pbs.twimg.com/media/CrOgsIBWYAA8Dtb.jpg</td>\n",
       "      <td>1</td>\n",
       "      <td>bathtub</td>\n",
       "      <td>0.368660</td>\n",
       "      <td>False</td>\n",
       "      <td>golden_retriever</td>\n",
       "      <td>0.297402</td>\n",
       "      <td>True</td>\n",
       "      <td>tub</td>\n",
       "      <td>0.201711</td>\n",
       "      <td>False</td>\n",
       "    </tr>\n",
       "    <tr>\n",
       "      <th>1819</th>\n",
       "      <td>834209720923721728</td>\n",
       "      <td>https://pbs.twimg.com/media/C5O1UAaWIAAMBMd.jpg</td>\n",
       "      <td>1</td>\n",
       "      <td>golden_retriever</td>\n",
       "      <td>0.754799</td>\n",
       "      <td>True</td>\n",
       "      <td>Pekinese</td>\n",
       "      <td>0.197861</td>\n",
       "      <td>True</td>\n",
       "      <td>Labrador_retriever</td>\n",
       "      <td>0.008654</td>\n",
       "      <td>True</td>\n",
       "    </tr>\n",
       "    <tr>\n",
       "      <th>1661</th>\n",
       "      <td>811744202451197953</td>\n",
       "      <td>https://pbs.twimg.com/media/C0PlCQjXAAA9TIh.jpg</td>\n",
       "      <td>1</td>\n",
       "      <td>Pekinese</td>\n",
       "      <td>0.386082</td>\n",
       "      <td>True</td>\n",
       "      <td>Labrador_retriever</td>\n",
       "      <td>0.202862</td>\n",
       "      <td>True</td>\n",
       "      <td>golden_retriever</td>\n",
       "      <td>0.170487</td>\n",
       "      <td>True</td>\n",
       "    </tr>\n",
       "    <tr>\n",
       "      <th>3</th>\n",
       "      <td>666044226329800704</td>\n",
       "      <td>https://pbs.twimg.com/media/CT5Dr8HUEAA-lEu.jpg</td>\n",
       "      <td>1</td>\n",
       "      <td>Rhodesian_ridgeback</td>\n",
       "      <td>0.408143</td>\n",
       "      <td>True</td>\n",
       "      <td>redbone</td>\n",
       "      <td>0.360687</td>\n",
       "      <td>True</td>\n",
       "      <td>miniature_pinscher</td>\n",
       "      <td>0.222752</td>\n",
       "      <td>True</td>\n",
       "    </tr>\n",
       "    <tr>\n",
       "      <th>770</th>\n",
       "      <td>689289219123089408</td>\n",
       "      <td>https://pbs.twimg.com/ext_tw_video_thumb/68928...</td>\n",
       "      <td>1</td>\n",
       "      <td>snowmobile</td>\n",
       "      <td>0.254642</td>\n",
       "      <td>False</td>\n",
       "      <td>assault_rifle</td>\n",
       "      <td>0.129558</td>\n",
       "      <td>False</td>\n",
       "      <td>rifle</td>\n",
       "      <td>0.110875</td>\n",
       "      <td>False</td>\n",
       "    </tr>\n",
       "    <tr>\n",
       "      <th>882</th>\n",
       "      <td>698710712454139905</td>\n",
       "      <td>https://pbs.twimg.com/media/CbJRrigW0AIcJ2N.jpg</td>\n",
       "      <td>1</td>\n",
       "      <td>Samoyed</td>\n",
       "      <td>0.329895</td>\n",
       "      <td>True</td>\n",
       "      <td>shoji</td>\n",
       "      <td>0.165772</td>\n",
       "      <td>False</td>\n",
       "      <td>prison</td>\n",
       "      <td>0.103596</td>\n",
       "      <td>False</td>\n",
       "    </tr>\n",
       "    <tr>\n",
       "      <th>2070</th>\n",
       "      <td>891327558926688256</td>\n",
       "      <td>https://pbs.twimg.com/media/DF6hr6BUMAAzZgT.jpg</td>\n",
       "      <td>2</td>\n",
       "      <td>basset</td>\n",
       "      <td>0.555712</td>\n",
       "      <td>True</td>\n",
       "      <td>English_springer</td>\n",
       "      <td>0.225770</td>\n",
       "      <td>True</td>\n",
       "      <td>German_short-haired_pointer</td>\n",
       "      <td>0.175219</td>\n",
       "      <td>True</td>\n",
       "    </tr>\n",
       "    <tr>\n",
       "      <th>190</th>\n",
       "      <td>669393256313184256</td>\n",
       "      <td>https://pbs.twimg.com/media/CUopnHPVEAAcL2o.jpg</td>\n",
       "      <td>1</td>\n",
       "      <td>cocker_spaniel</td>\n",
       "      <td>0.359843</td>\n",
       "      <td>True</td>\n",
       "      <td>Blenheim_spaniel</td>\n",
       "      <td>0.139519</td>\n",
       "      <td>True</td>\n",
       "      <td>toy_poodle</td>\n",
       "      <td>0.132746</td>\n",
       "      <td>True</td>\n",
       "    </tr>\n",
       "  </tbody>\n",
       "</table>\n",
       "</div>"
      ],
      "text/plain": [
       "                tweet_id                                            jpg_url  \\\n",
       "338   672239279297454080    https://pbs.twimg.com/media/CVRGDrsWsAAUWSF.jpg   \n",
       "717   685663452032069632  https://pbs.twimg.com/ext_tw_video_thumb/68566...   \n",
       "1416  771136648247640064    https://pbs.twimg.com/media/CrOgsIBWYAA8Dtb.jpg   \n",
       "1819  834209720923721728    https://pbs.twimg.com/media/C5O1UAaWIAAMBMd.jpg   \n",
       "1661  811744202451197953    https://pbs.twimg.com/media/C0PlCQjXAAA9TIh.jpg   \n",
       "3     666044226329800704    https://pbs.twimg.com/media/CT5Dr8HUEAA-lEu.jpg   \n",
       "770   689289219123089408  https://pbs.twimg.com/ext_tw_video_thumb/68928...   \n",
       "882   698710712454139905    https://pbs.twimg.com/media/CbJRrigW0AIcJ2N.jpg   \n",
       "2070  891327558926688256    https://pbs.twimg.com/media/DF6hr6BUMAAzZgT.jpg   \n",
       "190   669393256313184256    https://pbs.twimg.com/media/CUopnHPVEAAcL2o.jpg   \n",
       "\n",
       "      img_num                        p1   p1_conf  p1_dog                  p2  \\\n",
       "338         1                       pug  0.332536    True      French_bulldog   \n",
       "717         1  Chesapeake_Bay_retriever  0.171174    True         tennis_ball   \n",
       "1416        1                   bathtub  0.368660   False    golden_retriever   \n",
       "1819        1          golden_retriever  0.754799    True            Pekinese   \n",
       "1661        1                  Pekinese  0.386082    True  Labrador_retriever   \n",
       "3           1       Rhodesian_ridgeback  0.408143    True             redbone   \n",
       "770         1                snowmobile  0.254642   False       assault_rifle   \n",
       "882         1                   Samoyed  0.329895    True               shoji   \n",
       "2070        2                    basset  0.555712    True    English_springer   \n",
       "190         1            cocker_spaniel  0.359843    True    Blenheim_spaniel   \n",
       "\n",
       "       p2_conf  p2_dog                           p3   p3_conf  p3_dog  \n",
       "338   0.258124    True                 bull_mastiff  0.120873    True  \n",
       "717   0.090644   False                       racket  0.048508   False  \n",
       "1416  0.297402    True                          tub  0.201711   False  \n",
       "1819  0.197861    True           Labrador_retriever  0.008654    True  \n",
       "1661  0.202862    True             golden_retriever  0.170487    True  \n",
       "3     0.360687    True           miniature_pinscher  0.222752    True  \n",
       "770   0.129558   False                        rifle  0.110875   False  \n",
       "882   0.165772   False                       prison  0.103596   False  \n",
       "2070  0.225770    True  German_short-haired_pointer  0.175219    True  \n",
       "190   0.139519    True                   toy_poodle  0.132746    True  "
      ]
     },
     "execution_count": 500,
     "metadata": {},
     "output_type": "execute_result"
    }
   ],
   "source": [
    "# Assess df_image_predictions visually\n",
    "df_image_predictions.sample(n=10)"
   ]
  },
  {
   "cell_type": "code",
   "execution_count": 501,
   "metadata": {},
   "outputs": [
    {
     "data": {
      "text/plain": [
       "1265    https://pbs.twimg.com/ext_tw_video_thumb/74931...\n",
       "Name: jpg_url, dtype: object"
      ]
     },
     "execution_count": 501,
     "metadata": {},
     "output_type": "execute_result"
    }
   ],
   "source": [
    "df_image_predictions.query('tweet_id == 749317047558017024')['jpg_url']"
   ]
  },
  {
   "cell_type": "code",
   "execution_count": 502,
   "metadata": {},
   "outputs": [
    {
     "data": {
      "text/html": [
       "<div>\n",
       "<style scoped>\n",
       "    .dataframe tbody tr th:only-of-type {\n",
       "        vertical-align: middle;\n",
       "    }\n",
       "\n",
       "    .dataframe tbody tr th {\n",
       "        vertical-align: top;\n",
       "    }\n",
       "\n",
       "    .dataframe thead th {\n",
       "        text-align: right;\n",
       "    }\n",
       "</style>\n",
       "<table border=\"1\" class=\"dataframe\">\n",
       "  <thead>\n",
       "    <tr style=\"text-align: right;\">\n",
       "      <th></th>\n",
       "      <th>tweet_id</th>\n",
       "      <th>retweet_count</th>\n",
       "      <th>favorite_count</th>\n",
       "    </tr>\n",
       "  </thead>\n",
       "  <tbody>\n",
       "    <tr>\n",
       "      <th>1546</th>\n",
       "      <td>687732144991551489</td>\n",
       "      <td>667</td>\n",
       "      <td>1765</td>\n",
       "    </tr>\n",
       "    <tr>\n",
       "      <th>484</th>\n",
       "      <td>813112105746448384</td>\n",
       "      <td>2808</td>\n",
       "      <td>10546</td>\n",
       "    </tr>\n",
       "    <tr>\n",
       "      <th>2028</th>\n",
       "      <td>671485057807351808</td>\n",
       "      <td>227</td>\n",
       "      <td>735</td>\n",
       "    </tr>\n",
       "    <tr>\n",
       "      <th>614</th>\n",
       "      <td>793962221541933056</td>\n",
       "      <td>5030</td>\n",
       "      <td>17263</td>\n",
       "    </tr>\n",
       "    <tr>\n",
       "      <th>1425</th>\n",
       "      <td>696100768806522880</td>\n",
       "      <td>654</td>\n",
       "      <td>1938</td>\n",
       "    </tr>\n",
       "    <tr>\n",
       "      <th>2035</th>\n",
       "      <td>671182547775299584</td>\n",
       "      <td>324</td>\n",
       "      <td>1084</td>\n",
       "    </tr>\n",
       "    <tr>\n",
       "      <th>284</th>\n",
       "      <td>837110210464448512</td>\n",
       "      <td>2370</td>\n",
       "      <td>16133</td>\n",
       "    </tr>\n",
       "    <tr>\n",
       "      <th>1939</th>\n",
       "      <td>673350198937153538</td>\n",
       "      <td>203</td>\n",
       "      <td>728</td>\n",
       "    </tr>\n",
       "    <tr>\n",
       "      <th>1724</th>\n",
       "      <td>679047485189439488</td>\n",
       "      <td>661</td>\n",
       "      <td>2238</td>\n",
       "    </tr>\n",
       "    <tr>\n",
       "      <th>1893</th>\n",
       "      <td>674271431610523648</td>\n",
       "      <td>710</td>\n",
       "      <td>1529</td>\n",
       "    </tr>\n",
       "  </tbody>\n",
       "</table>\n",
       "</div>"
      ],
      "text/plain": [
       "                tweet_id  retweet_count  favorite_count\n",
       "1546  687732144991551489            667            1765\n",
       "484   813112105746448384           2808           10546\n",
       "2028  671485057807351808            227             735\n",
       "614   793962221541933056           5030           17263\n",
       "1425  696100768806522880            654            1938\n",
       "2035  671182547775299584            324            1084\n",
       "284   837110210464448512           2370           16133\n",
       "1939  673350198937153538            203             728\n",
       "1724  679047485189439488            661            2238\n",
       "1893  674271431610523648            710            1529"
      ]
     },
     "execution_count": 502,
     "metadata": {},
     "output_type": "execute_result"
    }
   ],
   "source": [
    "# Assess df_tweet_api_info visually\n",
    "df_tweet_api_info.sample(n=10)"
   ]
  },
  {
   "cell_type": "markdown",
   "metadata": {},
   "source": [
    "### b. Programmatic assessment"
   ]
  },
  {
   "cell_type": "code",
   "execution_count": 503,
   "metadata": {},
   "outputs": [
    {
     "name": "stdout",
     "output_type": "stream",
     "text": [
      "<class 'pandas.core.frame.DataFrame'>\n",
      "RangeIndex: 2356 entries, 0 to 2355\n",
      "Data columns (total 17 columns):\n",
      " #   Column                      Non-Null Count  Dtype  \n",
      "---  ------                      --------------  -----  \n",
      " 0   tweet_id                    2356 non-null   int64  \n",
      " 1   in_reply_to_status_id       78 non-null     float64\n",
      " 2   in_reply_to_user_id         78 non-null     float64\n",
      " 3   timestamp                   2356 non-null   object \n",
      " 4   source                      2356 non-null   object \n",
      " 5   text                        2356 non-null   object \n",
      " 6   retweeted_status_id         181 non-null    float64\n",
      " 7   retweeted_status_user_id    181 non-null    float64\n",
      " 8   retweeted_status_timestamp  181 non-null    object \n",
      " 9   expanded_urls               2297 non-null   object \n",
      " 10  rating_numerator            2356 non-null   int64  \n",
      " 11  rating_denominator          2356 non-null   int64  \n",
      " 12  name                        2356 non-null   object \n",
      " 13  doggo                       2356 non-null   object \n",
      " 14  floofer                     2356 non-null   object \n",
      " 15  pupper                      2356 non-null   object \n",
      " 16  puppo                       2356 non-null   object \n",
      "dtypes: float64(4), int64(3), object(10)\n",
      "memory usage: 313.0+ KB\n"
     ]
    }
   ],
   "source": [
    "# Check datatypes and non-null count of columns in df_twitter_archive_enhanced\n",
    "df_twitter_archive_enhanced.info()"
   ]
  },
  {
   "cell_type": "code",
   "execution_count": 504,
   "metadata": {},
   "outputs": [
    {
     "data": {
      "text/plain": [
       "10     2333\n",
       "11        3\n",
       "50        3\n",
       "80        2\n",
       "20        2\n",
       "2         1\n",
       "16        1\n",
       "40        1\n",
       "70        1\n",
       "15        1\n",
       "90        1\n",
       "110       1\n",
       "120       1\n",
       "130       1\n",
       "150       1\n",
       "170       1\n",
       "7         1\n",
       "0         1\n",
       "Name: rating_denominator, dtype: int64"
      ]
     },
     "execution_count": 504,
     "metadata": {},
     "output_type": "execute_result"
    }
   ],
   "source": [
    "# Check if column rating_denominator of df_twitter_archive_enhanced only consists of value 10\n",
    "df_twitter_archive_enhanced.rating_denominator.value_counts()"
   ]
  },
  {
   "cell_type": "code",
   "execution_count": 505,
   "metadata": {},
   "outputs": [
    {
     "data": {
      "text/plain": [
       "12      558\n",
       "11      464\n",
       "10      461\n",
       "13      351\n",
       "9       158\n",
       "8       102\n",
       "7        55\n",
       "14       54\n",
       "5        37\n",
       "6        32\n",
       "3        19\n",
       "4        17\n",
       "1         9\n",
       "2         9\n",
       "420       2\n",
       "0         2\n",
       "15        2\n",
       "75        2\n",
       "80        1\n",
       "20        1\n",
       "24        1\n",
       "26        1\n",
       "44        1\n",
       "50        1\n",
       "60        1\n",
       "165       1\n",
       "84        1\n",
       "88        1\n",
       "144       1\n",
       "182       1\n",
       "143       1\n",
       "666       1\n",
       "960       1\n",
       "1776      1\n",
       "17        1\n",
       "27        1\n",
       "45        1\n",
       "99        1\n",
       "121       1\n",
       "204       1\n",
       "Name: rating_numerator, dtype: int64"
      ]
     },
     "execution_count": 505,
     "metadata": {},
     "output_type": "execute_result"
    }
   ],
   "source": [
    "# Check column rating_numerator for realistic values\n",
    "df_twitter_archive_enhanced.rating_numerator.value_counts() "
   ]
  },
  {
   "cell_type": "code",
   "execution_count": 506,
   "metadata": {},
   "outputs": [
    {
     "data": {
      "text/plain": [
       "None         745\n",
       "a             55\n",
       "Charlie       12\n",
       "Cooper        11\n",
       "Oliver        11\n",
       "            ... \n",
       "Alejandro      1\n",
       "Tessa          1\n",
       "Arlo           1\n",
       "Ron            1\n",
       "Cupid          1\n",
       "Name: name, Length: 957, dtype: int64"
      ]
     },
     "execution_count": 506,
     "metadata": {},
     "output_type": "execute_result"
    }
   ],
   "source": [
    "# Check for most common values in column name of df_twitter_archive_enhanced\n",
    "df_twitter_archive_enhanced.name.value_counts() "
   ]
  },
  {
   "cell_type": "code",
   "execution_count": 645,
   "metadata": {},
   "outputs": [
    {
     "data": {
      "text/html": [
       "<div>\n",
       "<style scoped>\n",
       "    .dataframe tbody tr th:only-of-type {\n",
       "        vertical-align: middle;\n",
       "    }\n",
       "\n",
       "    .dataframe tbody tr th {\n",
       "        vertical-align: top;\n",
       "    }\n",
       "\n",
       "    .dataframe thead th {\n",
       "        text-align: right;\n",
       "    }\n",
       "</style>\n",
       "<table border=\"1\" class=\"dataframe\">\n",
       "  <thead>\n",
       "    <tr style=\"text-align: right;\">\n",
       "      <th></th>\n",
       "      <th>tweet_id</th>\n",
       "      <th>in_reply_to_status_id</th>\n",
       "      <th>in_reply_to_user_id</th>\n",
       "      <th>timestamp</th>\n",
       "      <th>source</th>\n",
       "      <th>text</th>\n",
       "      <th>retweeted_status_id</th>\n",
       "      <th>retweeted_status_user_id</th>\n",
       "      <th>retweeted_status_timestamp</th>\n",
       "      <th>expanded_urls</th>\n",
       "      <th>rating_numerator</th>\n",
       "      <th>rating_denominator</th>\n",
       "      <th>name</th>\n",
       "      <th>doggo</th>\n",
       "      <th>floofer</th>\n",
       "      <th>pupper</th>\n",
       "      <th>puppo</th>\n",
       "    </tr>\n",
       "  </thead>\n",
       "  <tbody>\n",
       "    <tr>\n",
       "      <th>2184</th>\n",
       "      <td>668988183816871936</td>\n",
       "      <td>NaN</td>\n",
       "      <td>NaN</td>\n",
       "      <td>2015-11-24 03:03:06 +0000</td>\n",
       "      <td>&lt;a href=\"http://twitter.com/download/iphone\" r...</td>\n",
       "      <td>Honor to rate this dog. Lots of fur on him. Tw...</td>\n",
       "      <td>NaN</td>\n",
       "      <td>NaN</td>\n",
       "      <td>NaN</td>\n",
       "      <td>https://twitter.com/dog_rates/status/668988183...</td>\n",
       "      <td>7</td>\n",
       "      <td>10</td>\n",
       "      <td>None</td>\n",
       "      <td>None</td>\n",
       "      <td>None</td>\n",
       "      <td>None</td>\n",
       "      <td>None</td>\n",
       "    </tr>\n",
       "    <tr>\n",
       "      <th>798</th>\n",
       "      <td>772877495989305348</td>\n",
       "      <td>NaN</td>\n",
       "      <td>NaN</td>\n",
       "      <td>2016-09-05 19:22:09 +0000</td>\n",
       "      <td>&lt;a href=\"http://twitter.com\" rel=\"nofollow\"&gt;Tw...</td>\n",
       "      <td>You need to watch these two doggos argue throu...</td>\n",
       "      <td>NaN</td>\n",
       "      <td>NaN</td>\n",
       "      <td>NaN</td>\n",
       "      <td>https://twitter.com/dog_rates/status/772877495...</td>\n",
       "      <td>11</td>\n",
       "      <td>10</td>\n",
       "      <td>None</td>\n",
       "      <td>None</td>\n",
       "      <td>None</td>\n",
       "      <td>None</td>\n",
       "      <td>None</td>\n",
       "    </tr>\n",
       "    <tr>\n",
       "      <th>2343</th>\n",
       "      <td>666073100786774016</td>\n",
       "      <td>NaN</td>\n",
       "      <td>NaN</td>\n",
       "      <td>2015-11-16 01:59:36 +0000</td>\n",
       "      <td>&lt;a href=\"http://twitter.com/download/iphone\" r...</td>\n",
       "      <td>Let's hope this flight isn't Malaysian (lol). ...</td>\n",
       "      <td>NaN</td>\n",
       "      <td>NaN</td>\n",
       "      <td>NaN</td>\n",
       "      <td>https://twitter.com/dog_rates/status/666073100...</td>\n",
       "      <td>10</td>\n",
       "      <td>10</td>\n",
       "      <td>None</td>\n",
       "      <td>None</td>\n",
       "      <td>None</td>\n",
       "      <td>None</td>\n",
       "      <td>None</td>\n",
       "    </tr>\n",
       "    <tr>\n",
       "      <th>1714</th>\n",
       "      <td>680440374763077632</td>\n",
       "      <td>NaN</td>\n",
       "      <td>NaN</td>\n",
       "      <td>2015-12-25 17:30:01 +0000</td>\n",
       "      <td>&lt;a href=\"http://twitter.com/download/iphone\" r...</td>\n",
       "      <td>Merry Christmas. My gift to you is this tiny u...</td>\n",
       "      <td>NaN</td>\n",
       "      <td>NaN</td>\n",
       "      <td>NaN</td>\n",
       "      <td>https://twitter.com/dog_rates/status/680440374...</td>\n",
       "      <td>11</td>\n",
       "      <td>10</td>\n",
       "      <td>None</td>\n",
       "      <td>None</td>\n",
       "      <td>None</td>\n",
       "      <td>None</td>\n",
       "      <td>None</td>\n",
       "    </tr>\n",
       "    <tr>\n",
       "      <th>788</th>\n",
       "      <td>774314403806253056</td>\n",
       "      <td>NaN</td>\n",
       "      <td>NaN</td>\n",
       "      <td>2016-09-09 18:31:54 +0000</td>\n",
       "      <td>&lt;a href=\"http://twitter.com/download/iphone\" r...</td>\n",
       "      <td>I WAS SENT THE ACTUAL DOG IN THE PROFILE PIC B...</td>\n",
       "      <td>NaN</td>\n",
       "      <td>NaN</td>\n",
       "      <td>NaN</td>\n",
       "      <td>https://twitter.com/dog_rates/status/774314403...</td>\n",
       "      <td>14</td>\n",
       "      <td>10</td>\n",
       "      <td>None</td>\n",
       "      <td>None</td>\n",
       "      <td>None</td>\n",
       "      <td>None</td>\n",
       "      <td>None</td>\n",
       "    </tr>\n",
       "  </tbody>\n",
       "</table>\n",
       "</div>"
      ],
      "text/plain": [
       "                tweet_id  in_reply_to_status_id  in_reply_to_user_id  \\\n",
       "2184  668988183816871936                    NaN                  NaN   \n",
       "798   772877495989305348                    NaN                  NaN   \n",
       "2343  666073100786774016                    NaN                  NaN   \n",
       "1714  680440374763077632                    NaN                  NaN   \n",
       "788   774314403806253056                    NaN                  NaN   \n",
       "\n",
       "                      timestamp  \\\n",
       "2184  2015-11-24 03:03:06 +0000   \n",
       "798   2016-09-05 19:22:09 +0000   \n",
       "2343  2015-11-16 01:59:36 +0000   \n",
       "1714  2015-12-25 17:30:01 +0000   \n",
       "788   2016-09-09 18:31:54 +0000   \n",
       "\n",
       "                                                 source  \\\n",
       "2184  <a href=\"http://twitter.com/download/iphone\" r...   \n",
       "798   <a href=\"http://twitter.com\" rel=\"nofollow\">Tw...   \n",
       "2343  <a href=\"http://twitter.com/download/iphone\" r...   \n",
       "1714  <a href=\"http://twitter.com/download/iphone\" r...   \n",
       "788   <a href=\"http://twitter.com/download/iphone\" r...   \n",
       "\n",
       "                                                   text  retweeted_status_id  \\\n",
       "2184  Honor to rate this dog. Lots of fur on him. Tw...                  NaN   \n",
       "798   You need to watch these two doggos argue throu...                  NaN   \n",
       "2343  Let's hope this flight isn't Malaysian (lol). ...                  NaN   \n",
       "1714  Merry Christmas. My gift to you is this tiny u...                  NaN   \n",
       "788   I WAS SENT THE ACTUAL DOG IN THE PROFILE PIC B...                  NaN   \n",
       "\n",
       "      retweeted_status_user_id retweeted_status_timestamp  \\\n",
       "2184                       NaN                        NaN   \n",
       "798                        NaN                        NaN   \n",
       "2343                       NaN                        NaN   \n",
       "1714                       NaN                        NaN   \n",
       "788                        NaN                        NaN   \n",
       "\n",
       "                                          expanded_urls  rating_numerator  \\\n",
       "2184  https://twitter.com/dog_rates/status/668988183...                 7   \n",
       "798   https://twitter.com/dog_rates/status/772877495...                11   \n",
       "2343  https://twitter.com/dog_rates/status/666073100...                10   \n",
       "1714  https://twitter.com/dog_rates/status/680440374...                11   \n",
       "788   https://twitter.com/dog_rates/status/774314403...                14   \n",
       "\n",
       "      rating_denominator  name doggo floofer pupper puppo  \n",
       "2184                  10  None  None    None   None  None  \n",
       "798                   10  None  None    None   None  None  \n",
       "2343                  10  None  None    None   None  None  \n",
       "1714                  10  None  None    None   None  None  \n",
       "788                   10  None  None    None   None  None  "
      ]
     },
     "execution_count": 645,
     "metadata": {},
     "output_type": "execute_result"
    }
   ],
   "source": [
    "# Inspect texts of some tweets without dog name \n",
    "df_twitter_archive_enhanced.query('name == \"None\"').sample(n=5)"
   ]
  },
  {
   "cell_type": "code",
   "execution_count": 646,
   "metadata": {},
   "outputs": [
    {
     "data": {
      "text/html": [
       "<div>\n",
       "<style scoped>\n",
       "    .dataframe tbody tr th:only-of-type {\n",
       "        vertical-align: middle;\n",
       "    }\n",
       "\n",
       "    .dataframe tbody tr th {\n",
       "        vertical-align: top;\n",
       "    }\n",
       "\n",
       "    .dataframe thead th {\n",
       "        text-align: right;\n",
       "    }\n",
       "</style>\n",
       "<table border=\"1\" class=\"dataframe\">\n",
       "  <thead>\n",
       "    <tr style=\"text-align: right;\">\n",
       "      <th></th>\n",
       "      <th>tweet_id</th>\n",
       "      <th>in_reply_to_status_id</th>\n",
       "      <th>in_reply_to_user_id</th>\n",
       "      <th>timestamp</th>\n",
       "      <th>source</th>\n",
       "      <th>text</th>\n",
       "      <th>retweeted_status_id</th>\n",
       "      <th>retweeted_status_user_id</th>\n",
       "      <th>retweeted_status_timestamp</th>\n",
       "      <th>expanded_urls</th>\n",
       "      <th>rating_numerator</th>\n",
       "      <th>rating_denominator</th>\n",
       "      <th>name</th>\n",
       "      <th>doggo</th>\n",
       "      <th>floofer</th>\n",
       "      <th>pupper</th>\n",
       "      <th>puppo</th>\n",
       "    </tr>\n",
       "  </thead>\n",
       "  <tbody>\n",
       "    <tr>\n",
       "      <th>1737</th>\n",
       "      <td>679530280114372609</td>\n",
       "      <td>NaN</td>\n",
       "      <td>NaN</td>\n",
       "      <td>2015-12-23 05:13:38 +0000</td>\n",
       "      <td>&lt;a href=\"http://twitter.com/download/iphone\" r...</td>\n",
       "      <td>Guys this really needs to stop. We've been ove...</td>\n",
       "      <td>NaN</td>\n",
       "      <td>NaN</td>\n",
       "      <td>NaN</td>\n",
       "      <td>https://twitter.com/dog_rates/status/679530280...</td>\n",
       "      <td>7</td>\n",
       "      <td>10</td>\n",
       "      <td>a</td>\n",
       "      <td>None</td>\n",
       "      <td>None</td>\n",
       "      <td>None</td>\n",
       "      <td>None</td>\n",
       "    </tr>\n",
       "    <tr>\n",
       "      <th>1785</th>\n",
       "      <td>677644091929329666</td>\n",
       "      <td>NaN</td>\n",
       "      <td>NaN</td>\n",
       "      <td>2015-12-18 00:18:36 +0000</td>\n",
       "      <td>&lt;a href=\"http://twitter.com/download/iphone\" r...</td>\n",
       "      <td>This is a dog swinging. I really enjoyed it so...</td>\n",
       "      <td>NaN</td>\n",
       "      <td>NaN</td>\n",
       "      <td>NaN</td>\n",
       "      <td>https://twitter.com/dog_rates/status/677644091...</td>\n",
       "      <td>11</td>\n",
       "      <td>10</td>\n",
       "      <td>a</td>\n",
       "      <td>None</td>\n",
       "      <td>None</td>\n",
       "      <td>None</td>\n",
       "      <td>None</td>\n",
       "    </tr>\n",
       "    <tr>\n",
       "      <th>2161</th>\n",
       "      <td>669564461267722241</td>\n",
       "      <td>NaN</td>\n",
       "      <td>NaN</td>\n",
       "      <td>2015-11-25 17:13:02 +0000</td>\n",
       "      <td>&lt;a href=\"http://twitter.com/download/iphone\" r...</td>\n",
       "      <td>This is a Coriander Baton Rouge named Alfredo....</td>\n",
       "      <td>NaN</td>\n",
       "      <td>NaN</td>\n",
       "      <td>NaN</td>\n",
       "      <td>https://twitter.com/dog_rates/status/669564461...</td>\n",
       "      <td>10</td>\n",
       "      <td>10</td>\n",
       "      <td>a</td>\n",
       "      <td>None</td>\n",
       "      <td>None</td>\n",
       "      <td>None</td>\n",
       "      <td>None</td>\n",
       "    </tr>\n",
       "    <tr>\n",
       "      <th>2352</th>\n",
       "      <td>666044226329800704</td>\n",
       "      <td>NaN</td>\n",
       "      <td>NaN</td>\n",
       "      <td>2015-11-16 00:04:52 +0000</td>\n",
       "      <td>&lt;a href=\"http://twitter.com/download/iphone\" r...</td>\n",
       "      <td>This is a purebred Piers Morgan. Loves to Netf...</td>\n",
       "      <td>NaN</td>\n",
       "      <td>NaN</td>\n",
       "      <td>NaN</td>\n",
       "      <td>https://twitter.com/dog_rates/status/666044226...</td>\n",
       "      <td>6</td>\n",
       "      <td>10</td>\n",
       "      <td>a</td>\n",
       "      <td>None</td>\n",
       "      <td>None</td>\n",
       "      <td>None</td>\n",
       "      <td>None</td>\n",
       "    </tr>\n",
       "    <tr>\n",
       "      <th>2287</th>\n",
       "      <td>667177989038297088</td>\n",
       "      <td>NaN</td>\n",
       "      <td>NaN</td>\n",
       "      <td>2015-11-19 03:10:02 +0000</td>\n",
       "      <td>&lt;a href=\"http://twitter.com/download/iphone\" r...</td>\n",
       "      <td>This is a Dasani Kingfisher from Maine. His na...</td>\n",
       "      <td>NaN</td>\n",
       "      <td>NaN</td>\n",
       "      <td>NaN</td>\n",
       "      <td>https://twitter.com/dog_rates/status/667177989...</td>\n",
       "      <td>8</td>\n",
       "      <td>10</td>\n",
       "      <td>a</td>\n",
       "      <td>None</td>\n",
       "      <td>None</td>\n",
       "      <td>None</td>\n",
       "      <td>None</td>\n",
       "    </tr>\n",
       "  </tbody>\n",
       "</table>\n",
       "</div>"
      ],
      "text/plain": [
       "                tweet_id  in_reply_to_status_id  in_reply_to_user_id  \\\n",
       "1737  679530280114372609                    NaN                  NaN   \n",
       "1785  677644091929329666                    NaN                  NaN   \n",
       "2161  669564461267722241                    NaN                  NaN   \n",
       "2352  666044226329800704                    NaN                  NaN   \n",
       "2287  667177989038297088                    NaN                  NaN   \n",
       "\n",
       "                      timestamp  \\\n",
       "1737  2015-12-23 05:13:38 +0000   \n",
       "1785  2015-12-18 00:18:36 +0000   \n",
       "2161  2015-11-25 17:13:02 +0000   \n",
       "2352  2015-11-16 00:04:52 +0000   \n",
       "2287  2015-11-19 03:10:02 +0000   \n",
       "\n",
       "                                                 source  \\\n",
       "1737  <a href=\"http://twitter.com/download/iphone\" r...   \n",
       "1785  <a href=\"http://twitter.com/download/iphone\" r...   \n",
       "2161  <a href=\"http://twitter.com/download/iphone\" r...   \n",
       "2352  <a href=\"http://twitter.com/download/iphone\" r...   \n",
       "2287  <a href=\"http://twitter.com/download/iphone\" r...   \n",
       "\n",
       "                                                   text  retweeted_status_id  \\\n",
       "1737  Guys this really needs to stop. We've been ove...                  NaN   \n",
       "1785  This is a dog swinging. I really enjoyed it so...                  NaN   \n",
       "2161  This is a Coriander Baton Rouge named Alfredo....                  NaN   \n",
       "2352  This is a purebred Piers Morgan. Loves to Netf...                  NaN   \n",
       "2287  This is a Dasani Kingfisher from Maine. His na...                  NaN   \n",
       "\n",
       "      retweeted_status_user_id retweeted_status_timestamp  \\\n",
       "1737                       NaN                        NaN   \n",
       "1785                       NaN                        NaN   \n",
       "2161                       NaN                        NaN   \n",
       "2352                       NaN                        NaN   \n",
       "2287                       NaN                        NaN   \n",
       "\n",
       "                                          expanded_urls  rating_numerator  \\\n",
       "1737  https://twitter.com/dog_rates/status/679530280...                 7   \n",
       "1785  https://twitter.com/dog_rates/status/677644091...                11   \n",
       "2161  https://twitter.com/dog_rates/status/669564461...                10   \n",
       "2352  https://twitter.com/dog_rates/status/666044226...                 6   \n",
       "2287  https://twitter.com/dog_rates/status/667177989...                 8   \n",
       "\n",
       "      rating_denominator name doggo floofer pupper puppo  \n",
       "1737                  10    a  None    None   None  None  \n",
       "1785                  10    a  None    None   None  None  \n",
       "2161                  10    a  None    None   None  None  \n",
       "2352                  10    a  None    None   None  None  \n",
       "2287                  10    a  None    None   None  None  "
      ]
     },
     "execution_count": 646,
     "metadata": {},
     "output_type": "execute_result"
    }
   ],
   "source": [
    "# Inspect texts of some tweets with value \"a\" in column \"name\"\n",
    "df_twitter_archive_enhanced.query('name == \"a\"').sample(n=5)"
   ]
  },
  {
   "cell_type": "code",
   "execution_count": 507,
   "metadata": {},
   "outputs": [
    {
     "name": "stdout",
     "output_type": "stream",
     "text": [
      "<class 'pandas.core.frame.DataFrame'>\n",
      "RangeIndex: 2075 entries, 0 to 2074\n",
      "Data columns (total 12 columns):\n",
      " #   Column    Non-Null Count  Dtype  \n",
      "---  ------    --------------  -----  \n",
      " 0   tweet_id  2075 non-null   int64  \n",
      " 1   jpg_url   2075 non-null   object \n",
      " 2   img_num   2075 non-null   int64  \n",
      " 3   p1        2075 non-null   object \n",
      " 4   p1_conf   2075 non-null   float64\n",
      " 5   p1_dog    2075 non-null   bool   \n",
      " 6   p2        2075 non-null   object \n",
      " 7   p2_conf   2075 non-null   float64\n",
      " 8   p2_dog    2075 non-null   bool   \n",
      " 9   p3        2075 non-null   object \n",
      " 10  p3_conf   2075 non-null   float64\n",
      " 11  p3_dog    2075 non-null   bool   \n",
      "dtypes: bool(3), float64(3), int64(2), object(4)\n",
      "memory usage: 152.1+ KB\n"
     ]
    }
   ],
   "source": [
    "# Check datatypes and non-null count of columns in df_image_predictions\n",
    "df_image_predictions.info()"
   ]
  },
  {
   "cell_type": "code",
   "execution_count": 508,
   "metadata": {},
   "outputs": [
    {
     "data": {
      "text/html": [
       "<div>\n",
       "<style scoped>\n",
       "    .dataframe tbody tr th:only-of-type {\n",
       "        vertical-align: middle;\n",
       "    }\n",
       "\n",
       "    .dataframe tbody tr th {\n",
       "        vertical-align: top;\n",
       "    }\n",
       "\n",
       "    .dataframe thead th {\n",
       "        text-align: right;\n",
       "    }\n",
       "</style>\n",
       "<table border=\"1\" class=\"dataframe\">\n",
       "  <thead>\n",
       "    <tr style=\"text-align: right;\">\n",
       "      <th></th>\n",
       "      <th>tweet_id</th>\n",
       "      <th>img_num</th>\n",
       "      <th>p1_conf</th>\n",
       "      <th>p2_conf</th>\n",
       "      <th>p3_conf</th>\n",
       "    </tr>\n",
       "  </thead>\n",
       "  <tbody>\n",
       "    <tr>\n",
       "      <th>count</th>\n",
       "      <td>2.075000e+03</td>\n",
       "      <td>2075.000000</td>\n",
       "      <td>2075.000000</td>\n",
       "      <td>2.075000e+03</td>\n",
       "      <td>2.075000e+03</td>\n",
       "    </tr>\n",
       "    <tr>\n",
       "      <th>mean</th>\n",
       "      <td>7.384514e+17</td>\n",
       "      <td>1.203855</td>\n",
       "      <td>0.594548</td>\n",
       "      <td>1.345886e-01</td>\n",
       "      <td>6.032417e-02</td>\n",
       "    </tr>\n",
       "    <tr>\n",
       "      <th>std</th>\n",
       "      <td>6.785203e+16</td>\n",
       "      <td>0.561875</td>\n",
       "      <td>0.271174</td>\n",
       "      <td>1.006657e-01</td>\n",
       "      <td>5.090593e-02</td>\n",
       "    </tr>\n",
       "    <tr>\n",
       "      <th>min</th>\n",
       "      <td>6.660209e+17</td>\n",
       "      <td>1.000000</td>\n",
       "      <td>0.044333</td>\n",
       "      <td>1.011300e-08</td>\n",
       "      <td>1.740170e-10</td>\n",
       "    </tr>\n",
       "    <tr>\n",
       "      <th>25%</th>\n",
       "      <td>6.764835e+17</td>\n",
       "      <td>1.000000</td>\n",
       "      <td>0.364412</td>\n",
       "      <td>5.388625e-02</td>\n",
       "      <td>1.622240e-02</td>\n",
       "    </tr>\n",
       "    <tr>\n",
       "      <th>50%</th>\n",
       "      <td>7.119988e+17</td>\n",
       "      <td>1.000000</td>\n",
       "      <td>0.588230</td>\n",
       "      <td>1.181810e-01</td>\n",
       "      <td>4.944380e-02</td>\n",
       "    </tr>\n",
       "    <tr>\n",
       "      <th>75%</th>\n",
       "      <td>7.932034e+17</td>\n",
       "      <td>1.000000</td>\n",
       "      <td>0.843855</td>\n",
       "      <td>1.955655e-01</td>\n",
       "      <td>9.180755e-02</td>\n",
       "    </tr>\n",
       "    <tr>\n",
       "      <th>max</th>\n",
       "      <td>8.924206e+17</td>\n",
       "      <td>4.000000</td>\n",
       "      <td>1.000000</td>\n",
       "      <td>4.880140e-01</td>\n",
       "      <td>2.734190e-01</td>\n",
       "    </tr>\n",
       "  </tbody>\n",
       "</table>\n",
       "</div>"
      ],
      "text/plain": [
       "           tweet_id      img_num      p1_conf       p2_conf       p3_conf\n",
       "count  2.075000e+03  2075.000000  2075.000000  2.075000e+03  2.075000e+03\n",
       "mean   7.384514e+17     1.203855     0.594548  1.345886e-01  6.032417e-02\n",
       "std    6.785203e+16     0.561875     0.271174  1.006657e-01  5.090593e-02\n",
       "min    6.660209e+17     1.000000     0.044333  1.011300e-08  1.740170e-10\n",
       "25%    6.764835e+17     1.000000     0.364412  5.388625e-02  1.622240e-02\n",
       "50%    7.119988e+17     1.000000     0.588230  1.181810e-01  4.944380e-02\n",
       "75%    7.932034e+17     1.000000     0.843855  1.955655e-01  9.180755e-02\n",
       "max    8.924206e+17     4.000000     1.000000  4.880140e-01  2.734190e-01"
      ]
     },
     "execution_count": 508,
     "metadata": {},
     "output_type": "execute_result"
    }
   ],
   "source": [
    "# Check for percentiles and standard deviation of image prediction confidence\n",
    "df_image_predictions.describe()"
   ]
  },
  {
   "cell_type": "code",
   "execution_count": 509,
   "metadata": {},
   "outputs": [
    {
     "data": {
      "text/plain": [
       "1.0"
      ]
     },
     "execution_count": 509,
     "metadata": {},
     "output_type": "execute_result"
    }
   ],
   "source": [
    "# Check if p1_conf means highest condifdence level\n",
    "np.mean(df_image_predictions.p1_conf > df_image_predictions.p2_conf)"
   ]
  },
  {
   "cell_type": "code",
   "execution_count": 510,
   "metadata": {},
   "outputs": [
    {
     "name": "stdout",
     "output_type": "stream",
     "text": [
      "<class 'pandas.core.frame.DataFrame'>\n",
      "RangeIndex: 2331 entries, 0 to 2330\n",
      "Data columns (total 3 columns):\n",
      " #   Column          Non-Null Count  Dtype\n",
      "---  ------          --------------  -----\n",
      " 0   tweet_id        2331 non-null   int64\n",
      " 1   retweet_count   2331 non-null   int64\n",
      " 2   favorite_count  2331 non-null   int64\n",
      "dtypes: int64(3)\n",
      "memory usage: 54.8 KB\n"
     ]
    }
   ],
   "source": [
    "# Check datatypes and non-null count of columns in df_tweet_api_info\n",
    "df_tweet_api_info.info()"
   ]
  },
  {
   "cell_type": "code",
   "execution_count": 511,
   "metadata": {},
   "outputs": [
    {
     "data": {
      "text/html": [
       "<div>\n",
       "<style scoped>\n",
       "    .dataframe tbody tr th:only-of-type {\n",
       "        vertical-align: middle;\n",
       "    }\n",
       "\n",
       "    .dataframe tbody tr th {\n",
       "        vertical-align: top;\n",
       "    }\n",
       "\n",
       "    .dataframe thead th {\n",
       "        text-align: right;\n",
       "    }\n",
       "</style>\n",
       "<table border=\"1\" class=\"dataframe\">\n",
       "  <thead>\n",
       "    <tr style=\"text-align: right;\">\n",
       "      <th></th>\n",
       "      <th>tweet_index</th>\n",
       "      <th>tweet_id</th>\n",
       "    </tr>\n",
       "  </thead>\n",
       "  <tbody>\n",
       "    <tr>\n",
       "      <th>0</th>\n",
       "      <td>20</td>\n",
       "      <td>888202515573088257</td>\n",
       "    </tr>\n",
       "    <tr>\n",
       "      <th>1</th>\n",
       "      <td>96</td>\n",
       "      <td>873697596434513921</td>\n",
       "    </tr>\n",
       "    <tr>\n",
       "      <th>2</th>\n",
       "      <td>102</td>\n",
       "      <td>872668790621863937</td>\n",
       "    </tr>\n",
       "    <tr>\n",
       "      <th>3</th>\n",
       "      <td>105</td>\n",
       "      <td>872261713294495745</td>\n",
       "    </tr>\n",
       "    <tr>\n",
       "      <th>4</th>\n",
       "      <td>119</td>\n",
       "      <td>869988702071779329</td>\n",
       "    </tr>\n",
       "    <tr>\n",
       "      <th>5</th>\n",
       "      <td>133</td>\n",
       "      <td>866816280283807744</td>\n",
       "    </tr>\n",
       "    <tr>\n",
       "      <th>6</th>\n",
       "      <td>156</td>\n",
       "      <td>861769973181624320</td>\n",
       "    </tr>\n",
       "    <tr>\n",
       "      <th>7</th>\n",
       "      <td>183</td>\n",
       "      <td>856602993587888130</td>\n",
       "    </tr>\n",
       "    <tr>\n",
       "      <th>8</th>\n",
       "      <td>212</td>\n",
       "      <td>851953902622658560</td>\n",
       "    </tr>\n",
       "    <tr>\n",
       "      <th>9</th>\n",
       "      <td>248</td>\n",
       "      <td>845459076796616705</td>\n",
       "    </tr>\n",
       "    <tr>\n",
       "      <th>10</th>\n",
       "      <td>254</td>\n",
       "      <td>844704788403113984</td>\n",
       "    </tr>\n",
       "    <tr>\n",
       "      <th>11</th>\n",
       "      <td>261</td>\n",
       "      <td>842892208864923648</td>\n",
       "    </tr>\n",
       "    <tr>\n",
       "      <th>12</th>\n",
       "      <td>297</td>\n",
       "      <td>837366284874571778</td>\n",
       "    </tr>\n",
       "    <tr>\n",
       "      <th>13</th>\n",
       "      <td>299</td>\n",
       "      <td>837012587749474308</td>\n",
       "    </tr>\n",
       "    <tr>\n",
       "      <th>14</th>\n",
       "      <td>364</td>\n",
       "      <td>829374341691346946</td>\n",
       "    </tr>\n",
       "    <tr>\n",
       "      <th>15</th>\n",
       "      <td>383</td>\n",
       "      <td>827228250799742977</td>\n",
       "    </tr>\n",
       "    <tr>\n",
       "      <th>16</th>\n",
       "      <td>507</td>\n",
       "      <td>812747805718642688</td>\n",
       "    </tr>\n",
       "    <tr>\n",
       "      <th>17</th>\n",
       "      <td>567</td>\n",
       "      <td>802247111496568832</td>\n",
       "    </tr>\n",
       "    <tr>\n",
       "      <th>18</th>\n",
       "      <td>751</td>\n",
       "      <td>779123168116150273</td>\n",
       "    </tr>\n",
       "    <tr>\n",
       "      <th>19</th>\n",
       "      <td>785</td>\n",
       "      <td>775096608509886464</td>\n",
       "    </tr>\n",
       "    <tr>\n",
       "      <th>20</th>\n",
       "      <td>816</td>\n",
       "      <td>771004394259247104</td>\n",
       "    </tr>\n",
       "    <tr>\n",
       "      <th>21</th>\n",
       "      <td>819</td>\n",
       "      <td>770743923962707968</td>\n",
       "    </tr>\n",
       "    <tr>\n",
       "      <th>22</th>\n",
       "      <td>891</td>\n",
       "      <td>759566828574212096</td>\n",
       "    </tr>\n",
       "    <tr>\n",
       "      <th>23</th>\n",
       "      <td>933</td>\n",
       "      <td>754011816964026368</td>\n",
       "    </tr>\n",
       "    <tr>\n",
       "      <th>24</th>\n",
       "      <td>1727</td>\n",
       "      <td>680055455951884288</td>\n",
       "    </tr>\n",
       "  </tbody>\n",
       "</table>\n",
       "</div>"
      ],
      "text/plain": [
       "    tweet_index            tweet_id\n",
       "0            20  888202515573088257\n",
       "1            96  873697596434513921\n",
       "2           102  872668790621863937\n",
       "3           105  872261713294495745\n",
       "4           119  869988702071779329\n",
       "5           133  866816280283807744\n",
       "6           156  861769973181624320\n",
       "7           183  856602993587888130\n",
       "8           212  851953902622658560\n",
       "9           248  845459076796616705\n",
       "10          254  844704788403113984\n",
       "11          261  842892208864923648\n",
       "12          297  837366284874571778\n",
       "13          299  837012587749474308\n",
       "14          364  829374341691346946\n",
       "15          383  827228250799742977\n",
       "16          507  812747805718642688\n",
       "17          567  802247111496568832\n",
       "18          751  779123168116150273\n",
       "19          785  775096608509886464\n",
       "20          816  771004394259247104\n",
       "21          819  770743923962707968\n",
       "22          891  759566828574212096\n",
       "23          933  754011816964026368\n",
       "24         1727  680055455951884288"
      ]
     },
     "execution_count": 511,
     "metadata": {},
     "output_type": "execute_result"
    }
   ],
   "source": [
    "df_tweet_id_errors"
   ]
  },
  {
   "cell_type": "code",
   "execution_count": 512,
   "metadata": {},
   "outputs": [
    {
     "data": {
      "text/plain": [
       "17    tweet_id\n",
       "29    tweet_id\n",
       "dtype: object"
      ]
     },
     "execution_count": 512,
     "metadata": {},
     "output_type": "execute_result"
    }
   ],
   "source": [
    "# Check for duplicate column names across three dataframes\n",
    "all_columns = pd.Series(list(df_twitter_archive_enhanced) + list(df_image_predictions) + list(df_tweet_api_info))\n",
    "all_columns[all_columns.duplicated()]"
   ]
  },
  {
   "cell_type": "code",
   "execution_count": 513,
   "metadata": {},
   "outputs": [
    {
     "data": {
      "text/html": [
       "<div>\n",
       "<style scoped>\n",
       "    .dataframe tbody tr th:only-of-type {\n",
       "        vertical-align: middle;\n",
       "    }\n",
       "\n",
       "    .dataframe tbody tr th {\n",
       "        vertical-align: top;\n",
       "    }\n",
       "\n",
       "    .dataframe thead th {\n",
       "        text-align: right;\n",
       "    }\n",
       "</style>\n",
       "<table border=\"1\" class=\"dataframe\">\n",
       "  <thead>\n",
       "    <tr style=\"text-align: right;\">\n",
       "      <th></th>\n",
       "      <th>tweet_id</th>\n",
       "      <th>retweet_count</th>\n",
       "      <th>favorite_count</th>\n",
       "    </tr>\n",
       "  </thead>\n",
       "  <tbody>\n",
       "    <tr>\n",
       "      <th>count</th>\n",
       "      <td>2.331000e+03</td>\n",
       "      <td>2331.000000</td>\n",
       "      <td>2331.00000</td>\n",
       "    </tr>\n",
       "    <tr>\n",
       "      <th>mean</th>\n",
       "      <td>7.419079e+17</td>\n",
       "      <td>2716.009438</td>\n",
       "      <td>7595.36894</td>\n",
       "    </tr>\n",
       "    <tr>\n",
       "      <th>std</th>\n",
       "      <td>6.823170e+16</td>\n",
       "      <td>4594.501971</td>\n",
       "      <td>11786.22056</td>\n",
       "    </tr>\n",
       "    <tr>\n",
       "      <th>min</th>\n",
       "      <td>6.660209e+17</td>\n",
       "      <td>1.000000</td>\n",
       "      <td>0.00000</td>\n",
       "    </tr>\n",
       "    <tr>\n",
       "      <th>25%</th>\n",
       "      <td>6.782670e+17</td>\n",
       "      <td>548.000000</td>\n",
       "      <td>1327.00000</td>\n",
       "    </tr>\n",
       "    <tr>\n",
       "      <th>50%</th>\n",
       "      <td>7.182469e+17</td>\n",
       "      <td>1275.000000</td>\n",
       "      <td>3306.00000</td>\n",
       "    </tr>\n",
       "    <tr>\n",
       "      <th>75%</th>\n",
       "      <td>7.986692e+17</td>\n",
       "      <td>3154.000000</td>\n",
       "      <td>9302.00000</td>\n",
       "    </tr>\n",
       "    <tr>\n",
       "      <th>max</th>\n",
       "      <td>8.924206e+17</td>\n",
       "      <td>78211.000000</td>\n",
       "      <td>156978.00000</td>\n",
       "    </tr>\n",
       "  </tbody>\n",
       "</table>\n",
       "</div>"
      ],
      "text/plain": [
       "           tweet_id  retweet_count  favorite_count\n",
       "count  2.331000e+03    2331.000000      2331.00000\n",
       "mean   7.419079e+17    2716.009438      7595.36894\n",
       "std    6.823170e+16    4594.501971     11786.22056\n",
       "min    6.660209e+17       1.000000         0.00000\n",
       "25%    6.782670e+17     548.000000      1327.00000\n",
       "50%    7.182469e+17    1275.000000      3306.00000\n",
       "75%    7.986692e+17    3154.000000      9302.00000\n",
       "max    8.924206e+17   78211.000000    156978.00000"
      ]
     },
     "execution_count": 513,
     "metadata": {},
     "output_type": "execute_result"
    }
   ],
   "source": [
    "# Statistical description of dataframe, min-values, max-values, quartiles\n",
    "df_tweet_api_info.describe()"
   ]
  },
  {
   "cell_type": "markdown",
   "metadata": {},
   "source": [
    "### Findings, which contradict requirements:\n",
    "\n",
    "##### `df_twitter_archive_enhanced` table\n",
    "\n",
    "- Validity: Not all tweets are dog ratings, some are retweets. 181 Retweets, identied by values in columns `retweeted_status_id`, `retweeted_status_user_id` and `retweeted_status_timestamp`.\n",
    "- Validity: Not all tweets are dog ratings, some are retweets. Retweets: 78 non-null values in columns `in_reply_to_status_id` and `in_reply_to_user_id`.\n",
    "- Validity: Not all values in column `rating_denominator`are equal to 10.\n",
    "- Completeness: Not all rows have a value in either one of the following columns: `doggo`, `floofer`, `pupper`, `puppo`.\n",
    "- Consistency: Duplicate info in column `text` to columns `rating_numerator`, `rating_denominator`, `name`, `doggo`, `floofer`, `pupper`, `puppo`. \n",
    "- Completeness: There are 745 entries 'None' and 55 entries 'a' in the column `name`. \n",
    "- Accuracy: Column `timestamp` is not of type datetime.\n",
    "- Validity: In column `expanded_urls` the urls match mainly `https://twitter.com/dog_rates/status/`, yet there is one example where the url starts with `https://gofundme.com/ydvmve-surgery-for-`.\n",
    "\n",
    "\n",
    "##### `df_image_predictions` table\n",
    "- Consistency: Up to three different images with three possible interpretations what is depicted on the image. Ratings of interest always refer to one dog. Not all images depict dogs (regarding the image recognition/prediction table).\n",
    "\n",
    "#### `df_tweet_api_info`table\n",
    "- Accuracy: Columns `retweet_count` and `favorite_count` are of type float, where they can only be integers as values.\n",
    "\n",
    "#### Tidiness Observations:\n",
    "- Variable `text`contains multiple observational units `rating_numerator`, `rating_denominator`, `name`, `doggo`, `floofer`, `pupper`, `puppo`.\n",
    "- One variable (dog stage) in four columns in `treatments` table (doggo, floofer, pupper and puppo) of type categorical. \n",
    "- One observational unit in in three tables, `df_twitter_archive_enhanced`, `df_image_predictions`and `df_tweet_api_info`, different amount of rows."
   ]
  },
  {
   "cell_type": "markdown",
   "metadata": {},
   "source": [
    "<a id='clean'></a>\n",
    "## 3. Clean data"
   ]
  },
  {
   "cell_type": "code",
   "execution_count": 1683,
   "metadata": {},
   "outputs": [],
   "source": [
    "# Create copies for cleaning process to preserve original dataframes\n",
    "df_twitter_archive_enhanced_clean = df_twitter_archive_enhanced.copy()\n",
    "df_image_predictions_clean = df_image_predictions.copy()\n",
    "df_tweet_api_info_clean = df_tweet_api_info.copy()"
   ]
  },
  {
   "cell_type": "markdown",
   "metadata": {},
   "source": [
    "### Issue 1:\n",
    "#### Observe:\n",
    "- Validity: Not all tweets are dog ratings, some are retweets. 181 Retweets, identied by values in columns `retweeted_status_id`, `retweeted_status_user_id` and `retweeted_status_timestamp`."
   ]
  },
  {
   "cell_type": "markdown",
   "metadata": {},
   "source": [
    "#### Define:\n",
    "- Drop rows, which can be identified as retweets by non-null values in columns `retweeted_status_id`, `retweeted_status_user_id` and `retweeted_status_timestamp`. Furthermore drop columns `retweeted_status_id`, `retweeted_status_user_id` and `retweeted_status_timestamp`, as not necessary anymore."
   ]
  },
  {
   "cell_type": "markdown",
   "metadata": {},
   "source": [
    "#### Code:"
   ]
  },
  {
   "cell_type": "code",
   "execution_count": 1684,
   "metadata": {},
   "outputs": [],
   "source": [
    "# Keep only rows without values in 'retweeted_status_id'\n",
    "df_twitter_archive_enhanced_clean = df_twitter_archive_enhanced_clean[\n",
    "    df_twitter_archive_enhanced_clean['retweeted_status_id'].isnull()]\n",
    "\n",
    "# Drop variables which are only necessary for retweets\n",
    "df_twitter_archive_enhanced_clean.drop(['retweeted_status_id', 'retweeted_status_user_id', \n",
    "                                        'retweeted_status_timestamp'], axis=1, inplace=True)"
   ]
  },
  {
   "cell_type": "markdown",
   "metadata": {},
   "source": [
    "#### Test:"
   ]
  },
  {
   "cell_type": "code",
   "execution_count": 1685,
   "metadata": {},
   "outputs": [],
   "source": [
    "# Check if amount twitter ids reduced as expected\n",
    "assert len(df_twitter_archive_enhanced_clean) == len(df_twitter_archive_enhanced)-181"
   ]
  },
  {
   "cell_type": "code",
   "execution_count": 1686,
   "metadata": {},
   "outputs": [
    {
     "data": {
      "text/plain": [
       "['tweet_id',\n",
       " 'in_reply_to_status_id',\n",
       " 'in_reply_to_user_id',\n",
       " 'timestamp',\n",
       " 'source',\n",
       " 'text',\n",
       " 'retweeted_status_id',\n",
       " 'retweeted_status_user_id',\n",
       " 'retweeted_status_timestamp',\n",
       " 'expanded_urls',\n",
       " 'rating_numerator',\n",
       " 'rating_denominator',\n",
       " 'name',\n",
       " 'doggo',\n",
       " 'floofer',\n",
       " 'pupper',\n",
       " 'puppo']"
      ]
     },
     "execution_count": 1686,
     "metadata": {},
     "output_type": "execute_result"
    }
   ],
   "source": [
    "# Check if columnns `in_reply_to_status_id`, `in_reply_to_user_id` and `retweeted_status_timestamp` dropped\n",
    "list(df_twitter_archive_enhanced)"
   ]
  },
  {
   "cell_type": "markdown",
   "metadata": {},
   "source": [
    "### Issue 2:\n",
    "#### Observe:\n",
    "- Validity: Not all tweets are dog ratings, some are replies. 78 replies, identied by values in columns `in_reply_to_status_id` and `in_reply_to_user_id`."
   ]
  },
  {
   "cell_type": "markdown",
   "metadata": {},
   "source": [
    "#### Define:\n",
    "- Drop rows, which can be identified as replies by non-null values in columns `in_reply_to_status_id` and `in_reply_to_user_id`. Furthermore drop columns `in_reply_to_status_id` and `in_reply_to_user_id`, as not necessary anymore."
   ]
  },
  {
   "cell_type": "markdown",
   "metadata": {},
   "source": [
    "#### Code:"
   ]
  },
  {
   "cell_type": "code",
   "execution_count": 1687,
   "metadata": {},
   "outputs": [],
   "source": [
    "# Keep only rows without values in 'in_reply_to_status_id'\n",
    "df_twitter_archive_enhanced_clean = df_twitter_archive_enhanced_clean[df_twitter_archive_enhanced_clean[\n",
    "    'in_reply_to_status_id'].isnull()]\n",
    "\n",
    "# Drop variables which are only necessary for replies\n",
    "df_twitter_archive_enhanced_clean.drop(['in_reply_to_status_id', 'in_reply_to_user_id'], \n",
    "                                       axis=1, inplace=True)"
   ]
  },
  {
   "cell_type": "markdown",
   "metadata": {},
   "source": [
    "#### Test:"
   ]
  },
  {
   "cell_type": "code",
   "execution_count": 1688,
   "metadata": {},
   "outputs": [],
   "source": [
    "# Check if amount twitter ids reduced as expected\n",
    "assert len(df_twitter_archive_enhanced_clean) == len(df_twitter_archive_enhanced)-181-78"
   ]
  },
  {
   "cell_type": "code",
   "execution_count": 1689,
   "metadata": {},
   "outputs": [
    {
     "data": {
      "text/plain": [
       "['tweet_id',\n",
       " 'timestamp',\n",
       " 'source',\n",
       " 'text',\n",
       " 'expanded_urls',\n",
       " 'rating_numerator',\n",
       " 'rating_denominator',\n",
       " 'name',\n",
       " 'doggo',\n",
       " 'floofer',\n",
       " 'pupper',\n",
       " 'puppo']"
      ]
     },
     "execution_count": 1689,
     "metadata": {},
     "output_type": "execute_result"
    }
   ],
   "source": [
    "# Check if columnns `in_reply_to_status_id`, `in_reply_to_user_id` and `retweeted_status_timestamp` dropped\n",
    "list(df_twitter_archive_enhanced_clean)"
   ]
  },
  {
   "cell_type": "code",
   "execution_count": 1690,
   "metadata": {},
   "outputs": [],
   "source": [
    "# Check if any row left without value in rating_numerator column\n",
    "assert len(df_twitter_archive_enhanced_clean[df_twitter_archive_enhanced_clean['rating_numerator'].isnull()]) == 0"
   ]
  },
  {
   "cell_type": "markdown",
   "metadata": {},
   "source": [
    "### Issue 3:\n",
    "#### Observe:\n",
    "- Validity: Not all values in column `rating_denominator`are equal to 10. Not all ratings seem to be valid."
   ]
  },
  {
   "cell_type": "markdown",
   "metadata": {},
   "source": [
    "#### Define\n",
    "- Extract `rating_numerator`, `rating_denominator`variables from the text column using regular expressions and pandas' str.extract method. Drop the ratings column when done. Delete rows which do not have 10 as denominator."
   ]
  },
  {
   "cell_type": "markdown",
   "metadata": {},
   "source": [
    "#### Code:"
   ]
  },
  {
   "cell_type": "code",
   "execution_count": 1691,
   "metadata": {},
   "outputs": [
    {
     "name": "stderr",
     "output_type": "stream",
     "text": [
      "/usr/local/anaconda3/lib/python3.7/site-packages/ipykernel_launcher.py:7: FutureWarning: Columnar iteration over characters will be deprecated in future releases.\n",
      "  import sys\n"
     ]
    }
   ],
   "source": [
    "# Extract rating_numerator/rating_denominator via regex\n",
    "df_twitter_archive_enhanced_clean['rating'] = df_twitter_archive_enhanced_clean.text.str.extract(\n",
    "    '(\\d{1,2}\\.?\\d{1,2}?\\/10)', expand=True)\n",
    "\n",
    "# Split the values in 'rating' column to columns 'rating_numerator' and 'rating_denominator'\n",
    "df_twitter_archive_enhanced_clean['rating_numerator_text'], df_twitter_archive_enhanced_clean[\n",
    "    'rating_denominator_text'] = df_twitter_archive_enhanced_clean['rating'].str.split('/', 1).str\n"
   ]
  },
  {
   "cell_type": "code",
   "execution_count": 1692,
   "metadata": {},
   "outputs": [],
   "source": [
    "# NaN is not comparable, therfore replace all NaN with 'None'\n",
    "df_twitter_archive_enhanced_clean['rating_numerator_text'] = df_twitter_archive_enhanced_clean['rating_numerator_text'].replace(np.nan, 'None')\n",
    "\n",
    "# Function to apply, which goes through 3 available guesses and picks the one with highest confidence beeing dog\n",
    "def fill_missing_numerators(tweet):\n",
    "    if tweet['rating_numerator_text'] == 'None':\n",
    "        rating_numerator = tweet['rating_numerator']\n",
    "        return rating_numerator\n",
    "    else:\n",
    "        rating_numerator = tweet['rating_numerator_text']\n",
    "        return rating_numerator\n",
    "\n",
    "# Apply function to dataframe    \n",
    "df_twitter_archive_enhanced_clean['rating_numerator_merge'] = df_twitter_archive_enhanced_clean.apply(fill_missing_numerators, axis=1)\n",
    "\n",
    "\n",
    "df_twitter_archive_enhanced_clean['rating_numerator'] = df_twitter_archive_enhanced_clean['rating_numerator_merge']\n",
    "\n",
    "# Note: axis=1 denotes that referring to a column, not a row\n",
    "df_twitter_archive_enhanced_clean.drop(['rating_numerator_merge', 'rating_numerator_text'], axis=1, inplace=True)\n"
   ]
  },
  {
   "cell_type": "code",
   "execution_count": 1693,
   "metadata": {},
   "outputs": [],
   "source": [
    "# Drop rows which do not conform the (\\d{1,2}\\/10) format for ratings\n",
    "df_twitter_archive_enhanced_clean = df_twitter_archive_enhanced_clean[df_twitter_archive_enhanced_clean.rating_numerator.notnull()]\n",
    "df_twitter_archive_enhanced_clean = df_twitter_archive_enhanced_clean[df_twitter_archive_enhanced_clean.rating_denominator.notnull()]\n",
    "\n",
    "# Convert columns to int\n",
    "df_twitter_archive_enhanced_clean.rating_numerator = pd.to_numeric(df_twitter_archive_enhanced_clean.rating_numerator)\n",
    "df_twitter_archive_enhanced_clean.rating_denominator = pd.to_numeric(df_twitter_archive_enhanced_clean.rating_denominator)\n",
    "\n",
    "# Note: axis=1 denotes that referring to a column, not a row\n",
    "df_twitter_archive_enhanced_clean.drop('rating', axis=1, inplace=True)"
   ]
  },
  {
   "cell_type": "code",
   "execution_count": 1694,
   "metadata": {},
   "outputs": [],
   "source": [
    "# Drop rows with denominator other than 10\n",
    "df_twitter_archive_enhanced_clean = df_twitter_archive_enhanced_clean.query('rating_denominator == 10')"
   ]
  },
  {
   "cell_type": "markdown",
   "metadata": {},
   "source": [
    "#### Test:"
   ]
  },
  {
   "cell_type": "code",
   "execution_count": 1695,
   "metadata": {},
   "outputs": [
    {
     "name": "stdout",
     "output_type": "stream",
     "text": [
      "<class 'pandas.core.frame.DataFrame'>\n",
      "Int64Index: 2080 entries, 0 to 2355\n",
      "Data columns (total 13 columns):\n",
      " #   Column                   Non-Null Count  Dtype  \n",
      "---  ------                   --------------  -----  \n",
      " 0   tweet_id                 2080 non-null   int64  \n",
      " 1   timestamp                2080 non-null   object \n",
      " 2   source                   2080 non-null   object \n",
      " 3   text                     2080 non-null   object \n",
      " 4   expanded_urls            2077 non-null   object \n",
      " 5   rating_numerator         2080 non-null   float64\n",
      " 6   rating_denominator       2080 non-null   int64  \n",
      " 7   name                     2080 non-null   object \n",
      " 8   doggo                    2080 non-null   object \n",
      " 9   floofer                  2080 non-null   object \n",
      " 10  pupper                   2080 non-null   object \n",
      " 11  puppo                    2080 non-null   object \n",
      " 12  rating_denominator_text  1669 non-null   object \n",
      "dtypes: float64(1), int64(2), object(10)\n",
      "memory usage: 227.5+ KB\n"
     ]
    }
   ],
   "source": [
    "# Check if columns `rating_numerator` and `rating_denominator` have int64 as datatype\n",
    "df_twitter_archive_enhanced_clean.info()"
   ]
  },
  {
   "cell_type": "code",
   "execution_count": 1696,
   "metadata": {},
   "outputs": [
    {
     "data": {
      "text/plain": [
       "12.00      486\n",
       "10.00      437\n",
       "11.00      414\n",
       "13.00      288\n",
       "9.00       152\n",
       "8.00        97\n",
       "7.00        51\n",
       "14.00       38\n",
       "5.00        32\n",
       "6.00        32\n",
       "3.00        19\n",
       "4.00        14\n",
       "2.00         9\n",
       "1.00         4\n",
       "9.75         1\n",
       "0.00         1\n",
       "11.26        1\n",
       "11.27        1\n",
       "13.50        1\n",
       "420.00       1\n",
       "1776.00      1\n",
       "Name: rating_numerator, dtype: int64"
      ]
     },
     "execution_count": 1696,
     "metadata": {},
     "output_type": "execute_result"
    }
   ],
   "source": [
    "# Check for values in rating_numerator\n",
    "df_twitter_archive_enhanced_clean.rating_numerator.value_counts()"
   ]
  },
  {
   "cell_type": "code",
   "execution_count": 1697,
   "metadata": {},
   "outputs": [],
   "source": [
    "# Check for values in rating_numerator\n",
    "assert np.mean(df_twitter_archive_enhanced_clean.rating_denominator == 10) == 1.0"
   ]
  },
  {
   "cell_type": "markdown",
   "metadata": {},
   "source": [
    "### Issue 4:\n",
    "#### Observe:\n",
    "- Completeness: Missing values in columns `doggo`, `floofer`, `pupper`, `puppo`"
   ]
  },
  {
   "cell_type": "markdown",
   "metadata": {},
   "source": [
    "#### Define: \n",
    "- Extract `dogger`, `floofer`, `pupper` and `puppo` variables from the text column using regular expressions and pandas' str.extract method. \n",
    "- Merge data extracted with the values already available in four coulumns `doggo`, `floofer`, `puooer` and `puppo`.\n",
    "- Convert new column `stage`to categorical.*"
   ]
  },
  {
   "cell_type": "markdown",
   "metadata": {},
   "source": [
    "#### Code:"
   ]
  },
  {
   "cell_type": "code",
   "execution_count": 1698,
   "metadata": {},
   "outputs": [],
   "source": [
    "# Extract stage via regex from column 'text'\n",
    "df_twitter_archive_enhanced_clean['stage_text'] = df_twitter_archive_enhanced_clean.text.str.extract(\n",
    "    '(puppo|pupper|floofer|doggo)', expand=True)"
   ]
  },
  {
   "cell_type": "code",
   "execution_count": 1699,
   "metadata": {},
   "outputs": [
    {
     "data": {
      "text/plain": [
       "pupper     235\n",
       "doggo       79\n",
       "puppo       29\n",
       "floofer      4\n",
       "Name: stage_text, dtype: int64"
      ]
     },
     "execution_count": 1699,
     "metadata": {},
     "output_type": "execute_result"
    }
   ],
   "source": [
    "# Check for amount of values found\n",
    "df_twitter_archive_enhanced_clean.stage_text.value_counts()"
   ]
  },
  {
   "cell_type": "code",
   "execution_count": 1700,
   "metadata": {},
   "outputs": [],
   "source": [
    "# Extract stage from four columns 'doggo', 'floofer', 'pupper', 'puppo'\n",
    "\n",
    "def extract_dog_stage(tweet):\n",
    "    if tweet['doggo'] == 'doggo':\n",
    "        return 'doggo'\n",
    "    elif tweet['floofer'] == 'floofer':\n",
    "        return 'floofer'\n",
    "    elif tweet['pupper'] == 'pupper':\n",
    "        return 'pupper'\n",
    "    elif tweet['puppo'] == 'puppo':\n",
    "        return 'puppo'     \n",
    "    else:\n",
    "        return 'None'\n",
    "    \n",
    "    \n",
    "    \n",
    "# Apply function to dataframe    \n",
    "df_twitter_archive_enhanced_clean['stage'] = df_twitter_archive_enhanced_clean.apply(extract_dog_stage, axis=1)"
   ]
  },
  {
   "cell_type": "code",
   "execution_count": 1701,
   "metadata": {},
   "outputs": [],
   "source": [
    "# Join values from 'stage' and 'stage_text' to single column\n",
    "def fill_missing_values(tweet):\n",
    "    if tweet['stage'] == 'None':\n",
    "        stage = tweet['stage_text']\n",
    "        return stage\n",
    "    else:\n",
    "        stage = tweet['stage']\n",
    "        return stage\n",
    "\n",
    "# Apply function to dataframe    \n",
    "df_twitter_archive_enhanced_clean['stage'] = df_twitter_archive_enhanced_clean.apply(fill_missing_values, axis=1)"
   ]
  },
  {
   "cell_type": "code",
   "execution_count": 1702,
   "metadata": {},
   "outputs": [],
   "source": [
    "# Drop not necessary columns\n",
    "df_twitter_archive_enhanced_clean.drop(['stage_text', 'doggo', 'floofer', 'pupper', 'puppo'], axis=1, inplace=True)"
   ]
  },
  {
   "cell_type": "code",
   "execution_count": 1703,
   "metadata": {},
   "outputs": [],
   "source": [
    "# Convert column 'stage' to categorical\n",
    "df_twitter_archive_enhanced_clean['stage'] = df_twitter_archive_enhanced_clean['stage'].astype('category')"
   ]
  },
  {
   "cell_type": "markdown",
   "metadata": {},
   "source": [
    "#### Test:"
   ]
  },
  {
   "cell_type": "code",
   "execution_count": 1704,
   "metadata": {},
   "outputs": [
    {
     "data": {
      "text/plain": [
       "pupper     239\n",
       "doggo       90\n",
       "puppo       28\n",
       "floofer      9\n",
       "Name: stage, dtype: int64"
      ]
     },
     "execution_count": 1704,
     "metadata": {},
     "output_type": "execute_result"
    }
   ],
   "source": [
    "# Check if amount of values increased\n",
    "df_twitter_archive_enhanced_clean.stage.value_counts()"
   ]
  },
  {
   "cell_type": "code",
   "execution_count": 1705,
   "metadata": {},
   "outputs": [
    {
     "name": "stdout",
     "output_type": "stream",
     "text": [
      "<class 'pandas.core.frame.DataFrame'>\n",
      "Int64Index: 2080 entries, 0 to 2355\n",
      "Data columns (total 10 columns):\n",
      " #   Column                   Non-Null Count  Dtype   \n",
      "---  ------                   --------------  -----   \n",
      " 0   tweet_id                 2080 non-null   int64   \n",
      " 1   timestamp                2080 non-null   object  \n",
      " 2   source                   2080 non-null   object  \n",
      " 3   text                     2080 non-null   object  \n",
      " 4   expanded_urls            2077 non-null   object  \n",
      " 5   rating_numerator         2080 non-null   float64 \n",
      " 6   rating_denominator       2080 non-null   int64   \n",
      " 7   name                     2080 non-null   object  \n",
      " 8   rating_denominator_text  1669 non-null   object  \n",
      " 9   stage                    366 non-null    category\n",
      "dtypes: category(1), float64(1), int64(2), object(6)\n",
      "memory usage: 164.7+ KB\n"
     ]
    }
   ],
   "source": [
    "# Check for datatype categorical\n",
    "df_twitter_archive_enhanced_clean.info()"
   ]
  },
  {
   "cell_type": "markdown",
   "metadata": {},
   "source": [
    "### Issue 5:\n",
    "#### Observe:\n",
    "- Completeness: There are 745 entries 'None' and 55 entries 'a' in the column `name`. "
   ]
  },
  {
   "cell_type": "markdown",
   "metadata": {},
   "source": [
    "#### Define:\n",
    "- Extract names in tweet text by using common phrases to introduce name.\n",
    "- Merge names extracted with already available in `name` column.\n",
    "- Drop wrongly identified names like 'a'."
   ]
  },
  {
   "cell_type": "markdown",
   "metadata": {},
   "source": [
    "#### Code:"
   ]
  },
  {
   "cell_type": "code",
   "execution_count": 1706,
   "metadata": {},
   "outputs": [
    {
     "data": {
      "text/plain": [
       "None       592\n",
       "a           54\n",
       "Charlie     11\n",
       "Lucy        11\n",
       "Oliver      10\n",
       "          ... \n",
       "Strider      1\n",
       "Arnold       1\n",
       "Lambeau      1\n",
       "Corey        1\n",
       "Cupid        1\n",
       "Name: name, Length: 952, dtype: int64"
      ]
     },
     "execution_count": 1706,
     "metadata": {},
     "output_type": "execute_result"
    }
   ],
   "source": [
    "df_twitter_archive_enhanced_clean.name.value_counts()"
   ]
  },
  {
   "cell_type": "code",
   "execution_count": 1707,
   "metadata": {},
   "outputs": [],
   "source": [
    "# Search for most common patterns of sentences containing dog name\n",
    "df_twitter_archive_enhanced_clean['name_text'] = df_twitter_archive_enhanced_clean.text.str.extract(\n",
    "    '([Tt]his is (\\w+))|(name is (\\w+))|(named (\\w+))', expand=True)[1]\n",
    "\n",
    "df_twitter_archive_enhanced_clean['name_text'] = df_twitter_archive_enhanced_clean['name_text'].replace(np.nan, 'None')\n",
    "\n",
    "\n",
    "\n",
    "# Function to apply, which replaces missing values\n",
    "def fill_missing_names(tweet):\n",
    "    if tweet['name'] == 'None':\n",
    "        name = tweet['name_text']\n",
    "        return name\n",
    "    else:\n",
    "        name = tweet['name']\n",
    "        return name\n",
    "\n",
    "# Apply function to dataframe    \n",
    "df_twitter_archive_enhanced_clean['name'] = df_twitter_archive_enhanced_clean.apply(fill_missing_names, axis=1)\n",
    "\n",
    "# Drop variables 'name_text'\n",
    "df_twitter_archive_enhanced_clean.drop('name_text', axis=1, inplace=True)"
   ]
  },
  {
   "cell_type": "code",
   "execution_count": 1708,
   "metadata": {},
   "outputs": [
    {
     "name": "stdout",
     "output_type": "stream",
     "text": [
      "<class 'pandas.core.frame.DataFrame'>\n",
      "Int64Index: 2080 entries, 0 to 2355\n",
      "Data columns (total 10 columns):\n",
      " #   Column                   Non-Null Count  Dtype   \n",
      "---  ------                   --------------  -----   \n",
      " 0   tweet_id                 2080 non-null   int64   \n",
      " 1   timestamp                2080 non-null   object  \n",
      " 2   source                   2080 non-null   object  \n",
      " 3   text                     2080 non-null   object  \n",
      " 4   expanded_urls            2077 non-null   object  \n",
      " 5   rating_numerator         2080 non-null   float64 \n",
      " 6   rating_denominator       2080 non-null   int64   \n",
      " 7   name                     2080 non-null   object  \n",
      " 8   rating_denominator_text  1669 non-null   object  \n",
      " 9   stage                    366 non-null    category\n",
      "dtypes: category(1), float64(1), int64(2), object(6)\n",
      "memory usage: 164.7+ KB\n"
     ]
    }
   ],
   "source": [
    "df_twitter_archive_enhanced_clean.info()"
   ]
  },
  {
   "cell_type": "code",
   "execution_count": 1709,
   "metadata": {},
   "outputs": [],
   "source": [
    "\n",
    "# Function to delete entries which do not start with capital letter\n",
    "def delete_false_names(tweet):\n",
    "    name = tweet['name']\n",
    "    if name.istitle() is True:\n",
    "        name = tweet['name']\n",
    "        return name\n",
    "    else:\n",
    "        name = 'None'\n",
    "        return name\n",
    "    \n",
    "# Apply function to dataframe    \n",
    "df_twitter_archive_enhanced_clean['name'] = df_twitter_archive_enhanced_clean.apply(delete_false_names, axis=1)\n",
    "\n",
    "df_twitter_archive_enhanced_clean['name'] = df_twitter_archive_enhanced_clean['name'].replace('None', np.nan)\n"
   ]
  },
  {
   "cell_type": "markdown",
   "metadata": {},
   "source": [
    "#### Test:"
   ]
  },
  {
   "cell_type": "code",
   "execution_count": 1710,
   "metadata": {},
   "outputs": [
    {
     "data": {
      "text/plain": [
       "Charlie     11\n",
       "Lucy        11\n",
       "Cooper      10\n",
       "Oliver      10\n",
       "Tucker       9\n",
       "            ..\n",
       "Pepper       1\n",
       "Jo           1\n",
       "Fizz         1\n",
       "Terrance     1\n",
       "Cupid        1\n",
       "Name: name, Length: 922, dtype: int64"
      ]
     },
     "execution_count": 1710,
     "metadata": {},
     "output_type": "execute_result"
    }
   ],
   "source": [
    "# Check for most common values in name column\n",
    "df_twitter_archive_enhanced_clean.name.value_counts()"
   ]
  },
  {
   "cell_type": "code",
   "execution_count": 1711,
   "metadata": {},
   "outputs": [
    {
     "data": {
      "text/html": [
       "<div>\n",
       "<style scoped>\n",
       "    .dataframe tbody tr th:only-of-type {\n",
       "        vertical-align: middle;\n",
       "    }\n",
       "\n",
       "    .dataframe tbody tr th {\n",
       "        vertical-align: top;\n",
       "    }\n",
       "\n",
       "    .dataframe thead th {\n",
       "        text-align: right;\n",
       "    }\n",
       "</style>\n",
       "<table border=\"1\" class=\"dataframe\">\n",
       "  <thead>\n",
       "    <tr style=\"text-align: right;\">\n",
       "      <th></th>\n",
       "      <th>tweet_id</th>\n",
       "      <th>timestamp</th>\n",
       "      <th>source</th>\n",
       "      <th>text</th>\n",
       "      <th>expanded_urls</th>\n",
       "      <th>rating_numerator</th>\n",
       "      <th>rating_denominator</th>\n",
       "      <th>name</th>\n",
       "      <th>rating_denominator_text</th>\n",
       "      <th>stage</th>\n",
       "    </tr>\n",
       "  </thead>\n",
       "  <tbody>\n",
       "    <tr>\n",
       "      <th>508</th>\n",
       "      <td>812503143955202048</td>\n",
       "      <td>2016-12-24 03:40:19 +0000</td>\n",
       "      <td>&lt;a href=\"http://twitter.com/download/iphone\" r...</td>\n",
       "      <td>I'm happy to inform you all that Jake is in ex...</td>\n",
       "      <td>https://m.facebook.com/story.php?story_fbid=18...</td>\n",
       "      <td>13.0</td>\n",
       "      <td>10</td>\n",
       "      <td>NaN</td>\n",
       "      <td>10</td>\n",
       "      <td>NaN</td>\n",
       "    </tr>\n",
       "    <tr>\n",
       "      <th>388</th>\n",
       "      <td>826598365270007810</td>\n",
       "      <td>2017-02-01 01:09:42 +0000</td>\n",
       "      <td>&lt;a href=\"http://twitter.com/download/iphone\" r...</td>\n",
       "      <td>This is Pawnd... James Pawnd. He's suave af. 1...</td>\n",
       "      <td>https://twitter.com/dog_rates/status/826598365...</td>\n",
       "      <td>13.0</td>\n",
       "      <td>10</td>\n",
       "      <td>Pawnd</td>\n",
       "      <td>10</td>\n",
       "      <td>NaN</td>\n",
       "    </tr>\n",
       "    <tr>\n",
       "      <th>1713</th>\n",
       "      <td>680473011644985345</td>\n",
       "      <td>2015-12-25 19:39:43 +0000</td>\n",
       "      <td>&lt;a href=\"http://twitter.com/download/iphone\" r...</td>\n",
       "      <td>This is Hector. He thinks he's a hammer. Silly...</td>\n",
       "      <td>https://twitter.com/dog_rates/status/680473011...</td>\n",
       "      <td>10.0</td>\n",
       "      <td>10</td>\n",
       "      <td>Hector</td>\n",
       "      <td>10</td>\n",
       "      <td>pupper</td>\n",
       "    </tr>\n",
       "    <tr>\n",
       "      <th>1800</th>\n",
       "      <td>676975532580409345</td>\n",
       "      <td>2015-12-16 04:01:59 +0000</td>\n",
       "      <td>&lt;a href=\"http://twitter.com/download/iphone\" r...</td>\n",
       "      <td>This is Cooper. He doesn't know how cheese wor...</td>\n",
       "      <td>https://twitter.com/dog_rates/status/676975532...</td>\n",
       "      <td>11.0</td>\n",
       "      <td>10</td>\n",
       "      <td>Cooper</td>\n",
       "      <td>10</td>\n",
       "      <td>NaN</td>\n",
       "    </tr>\n",
       "    <tr>\n",
       "      <th>1797</th>\n",
       "      <td>677269281705472000</td>\n",
       "      <td>2015-12-16 23:29:14 +0000</td>\n",
       "      <td>&lt;a href=\"http://twitter.com/download/iphone\" r...</td>\n",
       "      <td>This is the happiest pupper I've ever seen. 10...</td>\n",
       "      <td>https://twitter.com/dog_rates/status/677269281...</td>\n",
       "      <td>10.0</td>\n",
       "      <td>10</td>\n",
       "      <td>NaN</td>\n",
       "      <td>10</td>\n",
       "      <td>pupper</td>\n",
       "    </tr>\n",
       "  </tbody>\n",
       "</table>\n",
       "</div>"
      ],
      "text/plain": [
       "                tweet_id                  timestamp  \\\n",
       "508   812503143955202048  2016-12-24 03:40:19 +0000   \n",
       "388   826598365270007810  2017-02-01 01:09:42 +0000   \n",
       "1713  680473011644985345  2015-12-25 19:39:43 +0000   \n",
       "1800  676975532580409345  2015-12-16 04:01:59 +0000   \n",
       "1797  677269281705472000  2015-12-16 23:29:14 +0000   \n",
       "\n",
       "                                                 source  \\\n",
       "508   <a href=\"http://twitter.com/download/iphone\" r...   \n",
       "388   <a href=\"http://twitter.com/download/iphone\" r...   \n",
       "1713  <a href=\"http://twitter.com/download/iphone\" r...   \n",
       "1800  <a href=\"http://twitter.com/download/iphone\" r...   \n",
       "1797  <a href=\"http://twitter.com/download/iphone\" r...   \n",
       "\n",
       "                                                   text  \\\n",
       "508   I'm happy to inform you all that Jake is in ex...   \n",
       "388   This is Pawnd... James Pawnd. He's suave af. 1...   \n",
       "1713  This is Hector. He thinks he's a hammer. Silly...   \n",
       "1800  This is Cooper. He doesn't know how cheese wor...   \n",
       "1797  This is the happiest pupper I've ever seen. 10...   \n",
       "\n",
       "                                          expanded_urls  rating_numerator  \\\n",
       "508   https://m.facebook.com/story.php?story_fbid=18...              13.0   \n",
       "388   https://twitter.com/dog_rates/status/826598365...              13.0   \n",
       "1713  https://twitter.com/dog_rates/status/680473011...              10.0   \n",
       "1800  https://twitter.com/dog_rates/status/676975532...              11.0   \n",
       "1797  https://twitter.com/dog_rates/status/677269281...              10.0   \n",
       "\n",
       "      rating_denominator    name rating_denominator_text   stage  \n",
       "508                   10     NaN                      10     NaN  \n",
       "388                   10   Pawnd                      10     NaN  \n",
       "1713                  10  Hector                      10  pupper  \n",
       "1800                  10  Cooper                      10     NaN  \n",
       "1797                  10     NaN                      10  pupper  "
      ]
     },
     "execution_count": 1711,
     "metadata": {},
     "output_type": "execute_result"
    }
   ],
   "source": [
    "# random test to see results\n",
    "df_twitter_archive_enhanced_clean.sample(5)"
   ]
  },
  {
   "cell_type": "code",
   "execution_count": 1712,
   "metadata": {},
   "outputs": [
    {
     "name": "stdout",
     "output_type": "stream",
     "text": [
      "<class 'pandas.core.frame.DataFrame'>\n",
      "Int64Index: 2080 entries, 0 to 2355\n",
      "Data columns (total 10 columns):\n",
      " #   Column                   Non-Null Count  Dtype   \n",
      "---  ------                   --------------  -----   \n",
      " 0   tweet_id                 2080 non-null   int64   \n",
      " 1   timestamp                2080 non-null   object  \n",
      " 2   source                   2080 non-null   object  \n",
      " 3   text                     2080 non-null   object  \n",
      " 4   expanded_urls            2077 non-null   object  \n",
      " 5   rating_numerator         2080 non-null   float64 \n",
      " 6   rating_denominator       2080 non-null   int64   \n",
      " 7   name                     1382 non-null   object  \n",
      " 8   rating_denominator_text  1669 non-null   object  \n",
      " 9   stage                    366 non-null    category\n",
      "dtypes: category(1), float64(1), int64(2), object(6)\n",
      "memory usage: 164.7+ KB\n"
     ]
    }
   ],
   "source": [
    "df_twitter_archive_enhanced_clean.info()"
   ]
  },
  {
   "cell_type": "markdown",
   "metadata": {},
   "source": [
    "### Issue 6:\n",
    "#### Observe:\n",
    "- Consistency: Up to three different images with three possible interpretations what is depicted on the image. Ratings of interest always refer to one dog."
   ]
  },
  {
   "cell_type": "markdown",
   "metadata": {},
   "source": [
    "#### Define:\n",
    "- Create function to pick image with highest confidence and drop other images. \n",
    "- Keep results in resulting columns `race_prediction` and `race_prediction_conf`."
   ]
  },
  {
   "cell_type": "markdown",
   "metadata": {},
   "source": [
    "#### Code"
   ]
  },
  {
   "cell_type": "code",
   "execution_count": 1713,
   "metadata": {},
   "outputs": [],
   "source": [
    "# Is there a more elegant way to do this???\n",
    "\n",
    "# Function to apply, which goes through 3 available guesses and picks the one with highest confidence beeing dog\n",
    "def find_best_valid_prediction(tweet):\n",
    "    if tweet['p1_dog'] == True:\n",
    "        race_prediction = tweet['p1']\n",
    "        return race_prediction\n",
    "    elif tweet['p1_dog'] == False and tweet['p2_dog'] == True:\n",
    "        race_prediction = tweet['p2']\n",
    "        return race_prediction\n",
    "    elif tweet['p1_dog'] == False and tweet['p2_dog'] == False and tweet['p3_dog'] == True:\n",
    "        race_prediction = tweet['p3']\n",
    "        return race_prediction\n",
    "    else:\n",
    "        race_prediction = 'None'\n",
    "        return race_prediction\n",
    "\n",
    "# Apply function to dataframe    \n",
    "df_image_predictions_clean['race_prediction'] = df_image_predictions_clean.apply(find_best_valid_prediction, axis=1)\n",
    "\n",
    "\n",
    "# Function to apply, which adds confidence level to best guess\n",
    "def add_conf_best_valid_guess(tweet):\n",
    "    if tweet['race_prediction'] == tweet['p1']:\n",
    "        race_prediction_conf = tweet['p1_conf']\n",
    "        return race_prediction_conf\n",
    "    elif tweet['race_prediction'] != tweet['p1'] and tweet['race_prediction'] == tweet['p2']:\n",
    "        race_prediction_conf = tweet['p2_conf']\n",
    "        return race_prediction_conf\n",
    "    elif tweet['race_prediction'] != tweet['p1'] and tweet['race_prediction'] != tweet['p2'] and tweet['race_prediction'] == tweet['p3']:\n",
    "        race_prediction_conf = tweet['p3_conf']\n",
    "        return race_prediction_conf\n",
    "    else:\n",
    "        race_prediction_conf = 0\n",
    "        return race_prediction_conf\n",
    "\n",
    "# Apply function to dataframe    \n",
    "df_image_predictions_clean['race_prediction_conf'] = df_image_predictions_clean.apply(add_conf_best_valid_guess, axis=1)\n",
    "\n",
    "\n",
    "# Drop variables which contain other guesses\n",
    "df_image_predictions_clean.drop(['p1', 'p1_conf', 'p1_dog', 'p2', 'p2_conf', 'p2_dog', 'p3', 'p3_conf',\n",
    "                                        'p3_dog'], axis=1, inplace=True)"
   ]
  },
  {
   "cell_type": "markdown",
   "metadata": {},
   "source": [
    "#### Test:"
   ]
  },
  {
   "cell_type": "code",
   "execution_count": 1714,
   "metadata": {},
   "outputs": [
    {
     "data": {
      "text/plain": [
       "['tweet_id', 'jpg_url', 'img_num', 'race_prediction', 'race_prediction_conf']"
      ]
     },
     "execution_count": 1714,
     "metadata": {},
     "output_type": "execute_result"
    }
   ],
   "source": [
    "# Check remaining columns\n",
    "list(df_image_predictions_clean)"
   ]
  },
  {
   "cell_type": "code",
   "execution_count": 1715,
   "metadata": {},
   "outputs": [
    {
     "data": {
      "text/html": [
       "<div>\n",
       "<style scoped>\n",
       "    .dataframe tbody tr th:only-of-type {\n",
       "        vertical-align: middle;\n",
       "    }\n",
       "\n",
       "    .dataframe tbody tr th {\n",
       "        vertical-align: top;\n",
       "    }\n",
       "\n",
       "    .dataframe thead th {\n",
       "        text-align: right;\n",
       "    }\n",
       "</style>\n",
       "<table border=\"1\" class=\"dataframe\">\n",
       "  <thead>\n",
       "    <tr style=\"text-align: right;\">\n",
       "      <th></th>\n",
       "      <th>tweet_id</th>\n",
       "      <th>jpg_url</th>\n",
       "      <th>img_num</th>\n",
       "      <th>race_prediction</th>\n",
       "      <th>race_prediction_conf</th>\n",
       "    </tr>\n",
       "  </thead>\n",
       "  <tbody>\n",
       "    <tr>\n",
       "      <th>0</th>\n",
       "      <td>666020888022790149</td>\n",
       "      <td>https://pbs.twimg.com/media/CT4udn0WwAA0aMy.jpg</td>\n",
       "      <td>1</td>\n",
       "      <td>Welsh_springer_spaniel</td>\n",
       "      <td>0.465074</td>\n",
       "    </tr>\n",
       "    <tr>\n",
       "      <th>1</th>\n",
       "      <td>666029285002620928</td>\n",
       "      <td>https://pbs.twimg.com/media/CT42GRgUYAA5iDo.jpg</td>\n",
       "      <td>1</td>\n",
       "      <td>redbone</td>\n",
       "      <td>0.506826</td>\n",
       "    </tr>\n",
       "    <tr>\n",
       "      <th>2</th>\n",
       "      <td>666033412701032449</td>\n",
       "      <td>https://pbs.twimg.com/media/CT4521TWwAEvMyu.jpg</td>\n",
       "      <td>1</td>\n",
       "      <td>German_shepherd</td>\n",
       "      <td>0.596461</td>\n",
       "    </tr>\n",
       "    <tr>\n",
       "      <th>3</th>\n",
       "      <td>666044226329800704</td>\n",
       "      <td>https://pbs.twimg.com/media/CT5Dr8HUEAA-lEu.jpg</td>\n",
       "      <td>1</td>\n",
       "      <td>Rhodesian_ridgeback</td>\n",
       "      <td>0.408143</td>\n",
       "    </tr>\n",
       "  </tbody>\n",
       "</table>\n",
       "</div>"
      ],
      "text/plain": [
       "             tweet_id                                          jpg_url  \\\n",
       "0  666020888022790149  https://pbs.twimg.com/media/CT4udn0WwAA0aMy.jpg   \n",
       "1  666029285002620928  https://pbs.twimg.com/media/CT42GRgUYAA5iDo.jpg   \n",
       "2  666033412701032449  https://pbs.twimg.com/media/CT4521TWwAEvMyu.jpg   \n",
       "3  666044226329800704  https://pbs.twimg.com/media/CT5Dr8HUEAA-lEu.jpg   \n",
       "\n",
       "   img_num         race_prediction  race_prediction_conf  \n",
       "0        1  Welsh_springer_spaniel              0.465074  \n",
       "1        1                 redbone              0.506826  \n",
       "2        1         German_shepherd              0.596461  \n",
       "3        1     Rhodesian_ridgeback              0.408143  "
      ]
     },
     "execution_count": 1715,
     "metadata": {},
     "output_type": "execute_result"
    }
   ],
   "source": [
    "# Check visually\n",
    "df_image_predictions_clean.head(n=4)"
   ]
  },
  {
   "cell_type": "markdown",
   "metadata": {},
   "source": [
    "### Issue 7:\n",
    "#### Observe: \n",
    "- Accuracy: Column `timestamp` is not of type datetime."
   ]
  },
  {
   "cell_type": "markdown",
   "metadata": {},
   "source": [
    "#### Define:\n",
    "- Concvert `timestamp` to type datetime"
   ]
  },
  {
   "cell_type": "markdown",
   "metadata": {},
   "source": [
    "#### Code:"
   ]
  },
  {
   "cell_type": "code",
   "execution_count": 1716,
   "metadata": {},
   "outputs": [],
   "source": [
    "# Convert column timestamp to type datetime\n",
    "df_twitter_archive_enhanced_clean['timestamp'] =  pd.to_datetime(df_twitter_archive_enhanced_clean['timestamp'], format='%Y-%m-%d %H:%M:%S.%f')"
   ]
  },
  {
   "cell_type": "markdown",
   "metadata": {},
   "source": [
    "#### Test:"
   ]
  },
  {
   "cell_type": "code",
   "execution_count": 1717,
   "metadata": {},
   "outputs": [
    {
     "name": "stdout",
     "output_type": "stream",
     "text": [
      "<class 'pandas.core.frame.DataFrame'>\n",
      "Int64Index: 2080 entries, 0 to 2355\n",
      "Data columns (total 10 columns):\n",
      " #   Column                   Non-Null Count  Dtype              \n",
      "---  ------                   --------------  -----              \n",
      " 0   tweet_id                 2080 non-null   int64              \n",
      " 1   timestamp                2080 non-null   datetime64[ns, UTC]\n",
      " 2   source                   2080 non-null   object             \n",
      " 3   text                     2080 non-null   object             \n",
      " 4   expanded_urls            2077 non-null   object             \n",
      " 5   rating_numerator         2080 non-null   float64            \n",
      " 6   rating_denominator       2080 non-null   int64              \n",
      " 7   name                     1382 non-null   object             \n",
      " 8   rating_denominator_text  1669 non-null   object             \n",
      " 9   stage                    366 non-null    category           \n",
      "dtypes: category(1), datetime64[ns, UTC](1), float64(1), int64(2), object(5)\n",
      "memory usage: 164.7+ KB\n"
     ]
    }
   ],
   "source": [
    "df_twitter_archive_enhanced_clean.info()"
   ]
  },
  {
   "cell_type": "markdown",
   "metadata": {},
   "source": [
    "### Issue 8:\n",
    "#### Observe: \n",
    "- Tidiness: Two columns numerator and denominator express one observation, rating."
   ]
  },
  {
   "cell_type": "markdown",
   "metadata": {},
   "source": [
    "#### Define:\n",
    "- Calculate the rating by dividing the numerator by the denominator.\n",
    "- Drop the outliers (below 1, above 1,5).\n",
    "- Drop columns of numerator and denominator."
   ]
  },
  {
   "cell_type": "markdown",
   "metadata": {},
   "source": [
    "#### Code:"
   ]
  },
  {
   "cell_type": "code",
   "execution_count": 1718,
   "metadata": {},
   "outputs": [],
   "source": [
    "# Create new column rating by calculating: numerator/denominator\n",
    "df_twitter_archive_enhanced_clean['rating'] = df_twitter_archive_enhanced_clean['rating_numerator']/df_twitter_archive_enhanced_clean['rating_denominator']"
   ]
  },
  {
   "cell_type": "code",
   "execution_count": 1719,
   "metadata": {},
   "outputs": [],
   "source": [
    "# Drop outliers\n",
    "df_twitter_archive_enhanced_clean = df_twitter_archive_enhanced_clean.query('rating > 1 and rating < 1.4')"
   ]
  },
  {
   "cell_type": "code",
   "execution_count": 1720,
   "metadata": {},
   "outputs": [],
   "source": [
    "# Drop columns\n",
    "df_twitter_archive_enhanced_clean.drop(['rating_numerator', 'rating_denominator', 'rating_denominator_text'], axis=1, inplace=True)"
   ]
  },
  {
   "cell_type": "markdown",
   "metadata": {},
   "source": [
    "#### Test:"
   ]
  },
  {
   "cell_type": "code",
   "execution_count": 1721,
   "metadata": {},
   "outputs": [
    {
     "data": {
      "text/plain": [
       "1.200    486\n",
       "1.100    414\n",
       "1.300    288\n",
       "1.126      1\n",
       "1.350      1\n",
       "1.127      1\n",
       "Name: rating, dtype: int64"
      ]
     },
     "execution_count": 1721,
     "metadata": {},
     "output_type": "execute_result"
    }
   ],
   "source": [
    "df_twitter_archive_enhanced_clean.rating.value_counts()"
   ]
  },
  {
   "cell_type": "markdown",
   "metadata": {},
   "source": [
    "### Issue 9:\n",
    "#### Observe: \n",
    "- Accuracy: Columns `retweet_count` and `favorite_count` are of type float, where they can only be integers as values."
   ]
  },
  {
   "cell_type": "markdown",
   "metadata": {},
   "source": [
    "#### Define\n",
    "- Convert columns `retweet_count` and `favorite_count` to integer."
   ]
  },
  {
   "cell_type": "markdown",
   "metadata": {},
   "source": [
    "#### Code:"
   ]
  },
  {
   "cell_type": "code",
   "execution_count": 1722,
   "metadata": {},
   "outputs": [],
   "source": [
    "df_tweet_api_info_clean.retweet_count = df_tweet_api_info_clean.retweet_count.astype(int)"
   ]
  },
  {
   "cell_type": "code",
   "execution_count": 1723,
   "metadata": {},
   "outputs": [],
   "source": [
    "df_tweet_api_info_clean.favorite_count = df_tweet_api_info_clean.favorite_count.astype(int)"
   ]
  },
  {
   "cell_type": "markdown",
   "metadata": {},
   "source": [
    "#### Test:"
   ]
  },
  {
   "cell_type": "code",
   "execution_count": 1724,
   "metadata": {},
   "outputs": [
    {
     "data": {
      "text/plain": [
       "tweet_id          int64\n",
       "retweet_count     int64\n",
       "favorite_count    int64\n",
       "dtype: object"
      ]
     },
     "execution_count": 1724,
     "metadata": {},
     "output_type": "execute_result"
    }
   ],
   "source": [
    "df_tweet_api_info_clean.dtypes"
   ]
  },
  {
   "cell_type": "markdown",
   "metadata": {},
   "source": [
    "### Issue 10:\n",
    "#### Observe:\n",
    "\n",
    "- Tidiness: One observational unit in in three tables, `df_twitter_archive_enhanced`, `df_image_predictions` and `df_tweet_api_info`, different amount of rows."
   ]
  },
  {
   "cell_type": "markdown",
   "metadata": {},
   "source": [
    "#### Define\n",
    "- Merge three datasets to one master dataset."
   ]
  },
  {
   "cell_type": "markdown",
   "metadata": {},
   "source": [
    "#### Code:"
   ]
  },
  {
   "cell_type": "code",
   "execution_count": 1725,
   "metadata": {},
   "outputs": [],
   "source": [
    "# Merge the two dataframes on columns 'given_name', 'surname'\n",
    "df_twitter_archive_enhanced_clean = pd.merge(df_twitter_archive_enhanced_clean, df_image_predictions_clean, \n",
    "                            on='tweet_id', how='left')\n",
    "\n",
    "twitter_archive_master = pd.merge(df_twitter_archive_enhanced_clean, df_tweet_api_info_clean, \n",
    "                            on='tweet_id', how='left')"
   ]
  },
  {
   "cell_type": "markdown",
   "metadata": {},
   "source": [
    "#### Test:"
   ]
  },
  {
   "cell_type": "code",
   "execution_count": 1726,
   "metadata": {},
   "outputs": [
    {
     "name": "stdout",
     "output_type": "stream",
     "text": [
      "<class 'pandas.core.frame.DataFrame'>\n",
      "Int64Index: 1191 entries, 0 to 1190\n",
      "Data columns (total 12 columns):\n",
      " #   Column                Non-Null Count  Dtype              \n",
      "---  ------                --------------  -----              \n",
      " 0   tweet_id              1191 non-null   int64              \n",
      " 1   timestamp             1191 non-null   datetime64[ns, UTC]\n",
      " 2   source                1191 non-null   object             \n",
      " 3   text                  1191 non-null   object             \n",
      " 4   expanded_urls         1190 non-null   object             \n",
      " 5   name                  837 non-null    object             \n",
      " 6   stage                 231 non-null    category           \n",
      " 7   rating                1191 non-null   float64            \n",
      " 8   jpg_url               1096 non-null   object             \n",
      " 9   img_num               1096 non-null   float64            \n",
      " 10  race_prediction       1096 non-null   object             \n",
      " 11  race_prediction_conf  1096 non-null   float64            \n",
      "dtypes: category(1), datetime64[ns, UTC](1), float64(3), int64(1), object(6)\n",
      "memory usage: 113.0+ KB\n"
     ]
    }
   ],
   "source": [
    "df_twitter_archive_enhanced_clean.info()"
   ]
  },
  {
   "cell_type": "code",
   "execution_count": 1727,
   "metadata": {},
   "outputs": [
    {
     "data": {
      "text/html": [
       "<div>\n",
       "<style scoped>\n",
       "    .dataframe tbody tr th:only-of-type {\n",
       "        vertical-align: middle;\n",
       "    }\n",
       "\n",
       "    .dataframe tbody tr th {\n",
       "        vertical-align: top;\n",
       "    }\n",
       "\n",
       "    .dataframe thead th {\n",
       "        text-align: right;\n",
       "    }\n",
       "</style>\n",
       "<table border=\"1\" class=\"dataframe\">\n",
       "  <thead>\n",
       "    <tr style=\"text-align: right;\">\n",
       "      <th></th>\n",
       "      <th>tweet_id</th>\n",
       "      <th>timestamp</th>\n",
       "      <th>source</th>\n",
       "      <th>text</th>\n",
       "      <th>expanded_urls</th>\n",
       "      <th>name</th>\n",
       "      <th>stage</th>\n",
       "      <th>rating</th>\n",
       "      <th>jpg_url</th>\n",
       "      <th>img_num</th>\n",
       "      <th>race_prediction</th>\n",
       "      <th>race_prediction_conf</th>\n",
       "      <th>retweet_count</th>\n",
       "      <th>favorite_count</th>\n",
       "    </tr>\n",
       "  </thead>\n",
       "  <tbody>\n",
       "    <tr>\n",
       "      <th>987</th>\n",
       "      <td>683481228088049664</td>\n",
       "      <td>2016-01-03 02:53:17+00:00</td>\n",
       "      <td>&lt;a href=\"http://twitter.com/download/iphone\" r...</td>\n",
       "      <td>Meet Banjo. He's a Peppercorn Shoop Da Whoop. ...</td>\n",
       "      <td>https://twitter.com/dog_rates/status/683481228...</td>\n",
       "      <td>Banjo</td>\n",
       "      <td>pupper</td>\n",
       "      <td>1.1</td>\n",
       "      <td>https://pbs.twimg.com/media/CXw2jSpWMAAad6V.jpg</td>\n",
       "      <td>1.0</td>\n",
       "      <td>keeshond</td>\n",
       "      <td>0.508951</td>\n",
       "      <td>994.0</td>\n",
       "      <td>2650.0</td>\n",
       "    </tr>\n",
       "    <tr>\n",
       "      <th>432</th>\n",
       "      <td>794332329137291264</td>\n",
       "      <td>2016-11-04 00:15:59+00:00</td>\n",
       "      <td>&lt;a href=\"http://twitter.com/download/iphone\" r...</td>\n",
       "      <td>This is Nimbus (like the cloud). He just bough...</td>\n",
       "      <td>https://twitter.com/dog_rates/status/794332329...</td>\n",
       "      <td>Nimbus</td>\n",
       "      <td>NaN</td>\n",
       "      <td>1.2</td>\n",
       "      <td>https://pbs.twimg.com/media/CwYJBiHXgAQlvrh.jpg</td>\n",
       "      <td>1.0</td>\n",
       "      <td>Samoyed</td>\n",
       "      <td>0.988307</td>\n",
       "      <td>2747.0</td>\n",
       "      <td>9820.0</td>\n",
       "    </tr>\n",
       "    <tr>\n",
       "      <th>646</th>\n",
       "      <td>750086836815486976</td>\n",
       "      <td>2016-07-04 22:00:12+00:00</td>\n",
       "      <td>&lt;a href=\"https://about.twitter.com/products/tw...</td>\n",
       "      <td>This is Spanky. He was a member of the 2002 US...</td>\n",
       "      <td>https://twitter.com/dog_rates/status/750086836...</td>\n",
       "      <td>Spanky</td>\n",
       "      <td>NaN</td>\n",
       "      <td>1.2</td>\n",
       "      <td>https://pbs.twimg.com/media/Cmf5WLGWYAAcmRw.jpg</td>\n",
       "      <td>1.0</td>\n",
       "      <td>pug</td>\n",
       "      <td>0.978277</td>\n",
       "      <td>540.0</td>\n",
       "      <td>2188.0</td>\n",
       "    </tr>\n",
       "    <tr>\n",
       "      <th>969</th>\n",
       "      <td>685315239903100929</td>\n",
       "      <td>2016-01-08 04:21:00+00:00</td>\n",
       "      <td>&lt;a href=\"http://twitter.com/download/iphone\" r...</td>\n",
       "      <td>I would like everyone to appreciate this pup's...</td>\n",
       "      <td>https://twitter.com/dog_rates/status/685315239...</td>\n",
       "      <td>NaN</td>\n",
       "      <td>NaN</td>\n",
       "      <td>1.1</td>\n",
       "      <td>https://pbs.twimg.com/media/CYK6kf0WMAAzP-0.jpg</td>\n",
       "      <td>2.0</td>\n",
       "      <td>chow</td>\n",
       "      <td>0.470162</td>\n",
       "      <td>1050.0</td>\n",
       "      <td>3329.0</td>\n",
       "    </tr>\n",
       "    <tr>\n",
       "      <th>818</th>\n",
       "      <td>707776935007539200</td>\n",
       "      <td>2016-03-10 03:55:45+00:00</td>\n",
       "      <td>&lt;a href=\"http://twitter.com/download/iphone\" r...</td>\n",
       "      <td>This is Sadie. She's a Bohemian Rhapsody. Rema...</td>\n",
       "      <td>https://twitter.com/dog_rates/status/707776935...</td>\n",
       "      <td>Sadie</td>\n",
       "      <td>NaN</td>\n",
       "      <td>1.1</td>\n",
       "      <td>https://pbs.twimg.com/media/CdKHWimWoAABs08.jpg</td>\n",
       "      <td>1.0</td>\n",
       "      <td>miniature_pinscher</td>\n",
       "      <td>0.890426</td>\n",
       "      <td>953.0</td>\n",
       "      <td>3286.0</td>\n",
       "    </tr>\n",
       "  </tbody>\n",
       "</table>\n",
       "</div>"
      ],
      "text/plain": [
       "               tweet_id                 timestamp  \\\n",
       "987  683481228088049664 2016-01-03 02:53:17+00:00   \n",
       "432  794332329137291264 2016-11-04 00:15:59+00:00   \n",
       "646  750086836815486976 2016-07-04 22:00:12+00:00   \n",
       "969  685315239903100929 2016-01-08 04:21:00+00:00   \n",
       "818  707776935007539200 2016-03-10 03:55:45+00:00   \n",
       "\n",
       "                                                source  \\\n",
       "987  <a href=\"http://twitter.com/download/iphone\" r...   \n",
       "432  <a href=\"http://twitter.com/download/iphone\" r...   \n",
       "646  <a href=\"https://about.twitter.com/products/tw...   \n",
       "969  <a href=\"http://twitter.com/download/iphone\" r...   \n",
       "818  <a href=\"http://twitter.com/download/iphone\" r...   \n",
       "\n",
       "                                                  text  \\\n",
       "987  Meet Banjo. He's a Peppercorn Shoop Da Whoop. ...   \n",
       "432  This is Nimbus (like the cloud). He just bough...   \n",
       "646  This is Spanky. He was a member of the 2002 US...   \n",
       "969  I would like everyone to appreciate this pup's...   \n",
       "818  This is Sadie. She's a Bohemian Rhapsody. Rema...   \n",
       "\n",
       "                                         expanded_urls    name   stage  \\\n",
       "987  https://twitter.com/dog_rates/status/683481228...   Banjo  pupper   \n",
       "432  https://twitter.com/dog_rates/status/794332329...  Nimbus     NaN   \n",
       "646  https://twitter.com/dog_rates/status/750086836...  Spanky     NaN   \n",
       "969  https://twitter.com/dog_rates/status/685315239...     NaN     NaN   \n",
       "818  https://twitter.com/dog_rates/status/707776935...   Sadie     NaN   \n",
       "\n",
       "     rating                                          jpg_url  img_num  \\\n",
       "987     1.1  https://pbs.twimg.com/media/CXw2jSpWMAAad6V.jpg      1.0   \n",
       "432     1.2  https://pbs.twimg.com/media/CwYJBiHXgAQlvrh.jpg      1.0   \n",
       "646     1.2  https://pbs.twimg.com/media/Cmf5WLGWYAAcmRw.jpg      1.0   \n",
       "969     1.1  https://pbs.twimg.com/media/CYK6kf0WMAAzP-0.jpg      2.0   \n",
       "818     1.1  https://pbs.twimg.com/media/CdKHWimWoAABs08.jpg      1.0   \n",
       "\n",
       "        race_prediction  race_prediction_conf  retweet_count  favorite_count  \n",
       "987            keeshond              0.508951          994.0          2650.0  \n",
       "432             Samoyed              0.988307         2747.0          9820.0  \n",
       "646                 pug              0.978277          540.0          2188.0  \n",
       "969                chow              0.470162         1050.0          3329.0  \n",
       "818  miniature_pinscher              0.890426          953.0          3286.0  "
      ]
     },
     "execution_count": 1727,
     "metadata": {},
     "output_type": "execute_result"
    }
   ],
   "source": [
    "twitter_archive_master.sample(n=5)"
   ]
  },
  {
   "cell_type": "markdown",
   "metadata": {},
   "source": [
    "### Store clean data:"
   ]
  },
  {
   "cell_type": "code",
   "execution_count": 1728,
   "metadata": {},
   "outputs": [],
   "source": [
    "# Store cleaned dataset to csv\n",
    "twitter_archive_master.to_csv('twitter_archive_master.csv', encoding='utf-8')"
   ]
  },
  {
   "cell_type": "markdown",
   "metadata": {},
   "source": [
    "Store date to twitter_archive_master.csv"
   ]
  },
  {
   "cell_type": "markdown",
   "metadata": {},
   "source": [
    "<a id='analysis'></a>\n",
    "## 4. Analysis & Visualization"
   ]
  },
  {
   "cell_type": "code",
   "execution_count": 1729,
   "metadata": {},
   "outputs": [],
   "source": [
    "# Import libraries for visualization\n",
    "import numpy as np\n",
    "import seaborn as sns\n",
    "import matplotlib.pyplot as plt\n",
    "%matplotlib inline"
   ]
  },
  {
   "cell_type": "markdown",
   "metadata": {},
   "source": [
    "##### A. Mean stage rating:\n",
    "Is there a difference in mean rating between the different dog stages `doggo`, `floofer`, `pupper`and `puppo`? The rating is an evaluation of the dog photo given by the owners of the twitter account WeRateDogs."
   ]
  },
  {
   "cell_type": "code",
   "execution_count": 1730,
   "metadata": {},
   "outputs": [
    {
     "data": {
      "image/png": "[encoded data removed]",
      "text/plain": [
       "<Figure size 1080x576 with 1 Axes>"
      ]
     },
     "metadata": {
      "needs_background": "light"
     },
     "output_type": "display_data"
    }
   ],
   "source": [
    "# Set up the matplotlib figure\n",
    "fig = plt.figure(figsize=(15,8));\n",
    "ax = fig.add_axes([0,0,1,1]);\n",
    "stages = ['doggo', 'floofer', 'pupper', 'puppo'];\n",
    "mean_stage_rating = twitter_archive_master.groupby('stage').mean()['rating'];\n",
    "ax.bar(stages,mean_stage_rating);\n",
    "\n",
    "ax.set_ylim([1.05,1.25]);\n",
    "ax.grid();\n",
    "plt.xlabel('Dog Stages');\n",
    "plt.ylabel('Mean WeRateDogs Rating');\n",
    "plt.title('Mean WeRateDogs Rating per Dog Stage');\n",
    "plt.show();\n",
    "\n",
    "fig.savefig('A_MeanWeRateDogsRatingDogStage.png', bbox_inches='tight');\n"
   ]
  },
  {
   "cell_type": "code",
   "execution_count": 1731,
   "metadata": {},
   "outputs": [
    {
     "data": {
      "text/plain": [
       "stage\n",
       "doggo      1.198462\n",
       "floofer    1.212500\n",
       "pupper     1.172244\n",
       "puppo      1.243478\n",
       "Name: rating, dtype: float64"
      ]
     },
     "execution_count": 1731,
     "metadata": {},
     "output_type": "execute_result"
    }
   ],
   "source": [
    "mean_stage_rating"
   ]
  },
  {
   "cell_type": "markdown",
   "metadata": {},
   "source": [
    "##### Mean stage rating conclusion: \n",
    "In the reviewed data the dog stage `pupppo` in mean has the highest rating with 1.210714. The stages `doggo` and `floofer`are close to that with mean ratings of 1.172222 and 1.188889. The lowest mean rating with a signifcant difference has the stage `pupper` with 1.068841."
   ]
  },
  {
   "cell_type": "markdown",
   "metadata": {},
   "source": [
    "##### B. Mean stage favorite count: \n",
    "Does the observed difference in mean rating also apply to the favorite count? Favorite count, other than rating, is a indicator of popularity among the followers of the twitter account. "
   ]
  },
  {
   "cell_type": "code",
   "execution_count": 1732,
   "metadata": {},
   "outputs": [
    {
     "data": {
      "image/png": "[encoded data removed]",
      "text/plain": [
       "<Figure size 1080x576 with 1 Axes>"
      ]
     },
     "metadata": {
      "needs_background": "light"
     },
     "output_type": "display_data"
    }
   ],
   "source": [
    "# Set up the matplotlib figure\n",
    "fig = plt.figure(figsize=(15,8))\n",
    "ax = fig.add_axes([0,0,1,1])\n",
    "stages = ['doggo', 'floofer', 'pupper', 'puppo']\n",
    "mean_stage_favorite_count = twitter_archive_master.groupby('stage').mean()['favorite_count']\n",
    "ax.bar(stages,mean_stage_favorite_count)\n",
    "ax.grid()\n",
    "plt.xlabel('Dog Stages');\n",
    "plt.ylabel('Mean Amount of Favorites');\n",
    "plt.title('Mean Amount of Favorites per Dog Stage');\n",
    "plt.show()\n",
    "\n",
    "fig.savefig('B_MeanAmountFavoritesDogStage.png', bbox_inches='tight')\n"
   ]
  },
  {
   "cell_type": "markdown",
   "metadata": {},
   "source": [
    "##### Mean Stage Favorite Count Conclusion: \n",
    "As in mean stage rating as well in mean stage favorite count the stage `puppo` has higher mean values. The stage `pupper` has, like in mean stage rating, the lowest mean favorite count."
   ]
  },
  {
   "cell_type": "markdown",
   "metadata": {},
   "source": [
    "##### C. Mean Stage Retweet Count: \n",
    "Does the observed difference in mean rating and mean favorite count also apply to the retweet count? Retweet count, just like favorite count, is a indicator of popularity among the followers of the twitter account. "
   ]
  },
  {
   "cell_type": "code",
   "execution_count": 1733,
   "metadata": {},
   "outputs": [
    {
     "data": {
      "image/png": "[encoded data removed]",
      "text/plain": [
       "<Figure size 1080x576 with 1 Axes>"
      ]
     },
     "metadata": {
      "needs_background": "light"
     },
     "output_type": "display_data"
    }
   ],
   "source": [
    "# Set up the matplotlib figure\n",
    "fig = plt.figure(figsize=(15,8))\n",
    "ax = fig.add_axes([0,0,1,1])\n",
    "stages = ['doggo', 'floofer', 'pupper', 'puppo']\n",
    "mean_stage_retweet_count = twitter_archive_master.groupby('stage').mean()['retweet_count']\n",
    "ax.bar(stages,mean_stage_retweet_count)\n",
    "ax.grid()\n",
    "plt.xlabel('Dog Stages');\n",
    "plt.ylabel('Mean Amount of Retweets');\n",
    "plt.title('Mean Amount of Retweets per Dog Stage');\n",
    "plt.show()\n",
    "\n",
    "fig.savefig('C_MeanAmountRetweetsDogStage.png', bbox_inches='tight')\n"
   ]
  },
  {
   "cell_type": "markdown",
   "metadata": {},
   "source": [
    "#####  Mean Stage Retweet Count Conclusion:\n",
    "In all three indicators, mean stage rating, mean stage favorite count and mean stage retweet count, the stage `puppo`performs best and the stage `pupper`performs worst."
   ]
  },
  {
   "cell_type": "markdown",
   "metadata": {},
   "source": [
    "##### D. Mean Rating Conclusion per Dog Race:\n",
    "Do certain dog races get rated higher than others?"
   ]
  },
  {
   "cell_type": "code",
   "execution_count": 1734,
   "metadata": {},
   "outputs": [],
   "source": [
    "# Only use observations with race prediction confidence higher than 85%\n",
    "dog_races = twitter_archive_master.query('race_prediction_conf > 0.85')"
   ]
  },
  {
   "cell_type": "code",
   "execution_count": 1735,
   "metadata": {},
   "outputs": [],
   "source": [
    "# Only pick races with more than 5 observations\n",
    "races = dog_races.race_prediction.value_counts().index[0:10]\n",
    "drop_races = dog_races.race_prediction.value_counts().index[10:]"
   ]
  },
  {
   "cell_type": "code",
   "execution_count": 1736,
   "metadata": {},
   "outputs": [],
   "source": [
    "# Create mean rating per dog race\n",
    "mean_race_rating = dog_races.groupby('race_prediction').mean()['rating']\n",
    "\n",
    "# Drop races with less than 5 observations\n",
    "mean_race_rating.drop(drop_races, inplace=True)"
   ]
  },
  {
   "cell_type": "code",
   "execution_count": 1737,
   "metadata": {},
   "outputs": [
    {
     "data": {
      "image/png": "[encoded data removed]",
      "text/plain": [
       "<Figure size 1080x576 with 1 Axes>"
      ]
     },
     "metadata": {
      "needs_background": "light"
     },
     "output_type": "display_data"
    }
   ],
   "source": [
    "# Set up the matplotlib figure\n",
    "fig = plt.figure(figsize=(15,8))\n",
    "\n",
    "ax = fig.add_axes([0,0,1,1])\n",
    "\n",
    "ax.bar(races,mean_race_rating)\n",
    "degrees = 45\n",
    "plt.xticks(rotation=degrees)\n",
    "\n",
    "ax.set_ylim([1.05,1.25])\n",
    "ax.grid()\n",
    "plt.xlabel('Dog Race');\n",
    "plt.ylabel('Mean WeRateDogs Rating');\n",
    "plt.title('Mean WeRateDogs Rating per Dog Race');\n",
    "plt.show()\n",
    "\n",
    "fig.savefig('D_MeanWeRateDogsRatingDogRace.png', bbox_inches='tight')\n"
   ]
  },
  {
   "cell_type": "markdown",
   "metadata": {},
   "source": [
    "##### Mean Rating Conclusion per Dog Race Conclusion:\n",
    "Among the dog races more than five times predicted with a certainty higher than 85%, the mean ratings of toy Labrador Retrievers, Chows and Pembrokes are the highest. Pugs, with difference, received the worst mean ratings among the analyzed data."
   ]
  },
  {
   "cell_type": "markdown",
   "metadata": {},
   "source": [
    "##### E. Mean Favorite Counts per Dog Race:\n",
    "Do the same dog races, that have higher mean WeRateDog ratings, also have higher mean amounts of favorites? Hence, do the owners of the WeRateDog twitter accounte have the same preferences as the followers of the same account?"
   ]
  },
  {
   "cell_type": "code",
   "execution_count": 1738,
   "metadata": {},
   "outputs": [],
   "source": [
    "# Create mean rating per dog race\n",
    "mean_race_favorite_count = dog_races.groupby('race_prediction').mean()['favorite_count']\n",
    "\n",
    "# Drop races with less than 5 observations\n",
    "mean_race_favorite_count.drop(drop_races, inplace=True)"
   ]
  },
  {
   "cell_type": "code",
   "execution_count": 1739,
   "metadata": {},
   "outputs": [
    {
     "data": {
      "image/png": "[encoded data removed]",
      "text/plain": [
       "<Figure size 1080x576 with 1 Axes>"
      ]
     },
     "metadata": {
      "needs_background": "light"
     },
     "output_type": "display_data"
    }
   ],
   "source": [
    "# Set up the matplotlib figure\n",
    "fig = plt.figure(figsize=(15,8))\n",
    "\n",
    "ax = fig.add_axes([0,0,1,1])\n",
    "\n",
    "ax.bar(races,mean_race_favorite_count)\n",
    "degrees = 45\n",
    "plt.xticks(rotation=degrees)\n",
    "\n",
    "ax.grid()\n",
    "plt.xlabel('Dog Race');\n",
    "plt.ylabel('Mean Amount of Favorite Counts');\n",
    "plt.title('Mean Amount of Favorite Counts per Dog Race');\n",
    "plt.show()\n",
    "\n",
    "fig.savefig('E_MeanAmountFavoriteCountsDogRace.png', bbox_inches='tight')\n"
   ]
  },
  {
   "cell_type": "markdown",
   "metadata": {},
   "source": [
    "##### Mean Favorite Counts per Dog Race Conclusion:\n",
    "The mean amount of favorite counts per race show a complete different picture than the mean dog rating per race. The mean amount of favorite counts for dogs of Pembroke race are significantly higher than the rest of races. The mean amount of favorite counts for dogs of race pug are significantly lower than for other dog races."
   ]
  },
  {
   "cell_type": "markdown",
   "metadata": {},
   "source": [
    "##### F. Mean Amount of Retweet Counts per Dog Race:\n",
    "Is the ranking of dog races by mean amount of retweet counts consistent to the ranking by mean amiunt of favorite counts? As both indicators are influenced by the followers of the WeRateDog account the distribution is expected to be similar."
   ]
  },
  {
   "cell_type": "code",
   "execution_count": 1740,
   "metadata": {},
   "outputs": [],
   "source": [
    "# Create mean rating per dog race\n",
    "mean_race_retweet_count = dog_races.groupby('race_prediction').mean()['retweet_count']\n",
    "\n",
    "# Drop races with less than 5 observations\n",
    "mean_race_retweet_count.drop(drop_races, inplace=True)"
   ]
  },
  {
   "cell_type": "code",
   "execution_count": 1741,
   "metadata": {},
   "outputs": [
    {
     "data": {
      "image/png": "[encoded data removed]",
      "text/plain": [
       "<Figure size 1080x576 with 1 Axes>"
      ]
     },
     "metadata": {
      "needs_background": "light"
     },
     "output_type": "display_data"
    }
   ],
   "source": [
    "# Set up the matplotlib figure\n",
    "fig = plt.figure(figsize=(15,8))\n",
    "\n",
    "ax = fig.add_axes([0,0,1,1])\n",
    "\n",
    "ax.bar(races,mean_race_retweet_count)\n",
    "degrees = 45\n",
    "plt.xticks(rotation=degrees)\n",
    "\n",
    "ax.grid()\n",
    "plt.xlabel('Dog Race');\n",
    "plt.ylabel('Mean Amount of Retweet Counts');\n",
    "plt.title('Mean Amount of Retweet Counts per Dog Race');\n",
    "plt.show()\n",
    "\n",
    "fig.savefig('F_MeanAmountRetweetCountsDogRace.png', bbox_inches='tight')   # save the figure to file\n"
   ]
  },
  {
   "cell_type": "markdown",
   "metadata": {},
   "source": [
    "##### Mean Amount of Retweet Counts per Dog Race Conclusion:\n",
    "There is no significant difference in the ranking by mean amount of retweets and mean amount of favorites per race. The followers of the WeRateDog account behave consistently in retweeting and clicking favorite of WeRateDogs tweets."
   ]
  },
  {
   "cell_type": "markdown",
   "metadata": {},
   "source": [
    "##### G. Most Common Dog Names Among Data:\n",
    "What is the most common dog name among the data collected from the WeRateDog twitter account?"
   ]
  },
  {
   "cell_type": "code",
   "execution_count": 1742,
   "metadata": {},
   "outputs": [],
   "source": [
    "# Create Array with 20 most common dog names\n",
    "most_common_dog_names = twitter_archive_master.name.value_counts()[0:20]"
   ]
  },
  {
   "cell_type": "code",
   "execution_count": 1744,
   "metadata": {},
   "outputs": [
    {
     "data": {
      "image/png": "[encoded data removed]",
      "text/plain": [
       "<Figure size 1080x576 with 1 Axes>"
      ]
     },
     "metadata": {
      "needs_background": "light"
     },
     "output_type": "display_data"
    }
   ],
   "source": [
    "# Set up the matplotlib figure\n",
    "fig = plt.figure(figsize=(15,8))\n",
    "\n",
    "ax = fig.add_axes([0,0,1,1])\n",
    "\n",
    "ax.bar(most_common_dog_names.index,most_common_dog_names)\n",
    "degrees = 45\n",
    "plt.xticks(rotation=degrees)\n",
    "\n",
    "ax.grid()\n",
    "plt.xlabel('Dog Names');\n",
    "plt.ylabel('Amount of Tweets with that Dog Name in Data');\n",
    "plt.title('20 Most Common Dog Names in Dataset');\n",
    "plt.show()\n",
    "\n",
    "fig.savefig('G_MostCommonDogNamesDataset.jpg', bbox_inches='tight')\n"
   ]
  },
  {
   "cell_type": "markdown",
   "metadata": {},
   "source": [
    "##### Most Common Dog Names Among Data Conclusion:\n",
    "The most dog name in the dataset is Charlie."
   ]
  }
 ],
 "metadata": {
  "kernelspec": {
   "display_name": "Python 3",
   "language": "python",
   "name": "python3"
  },
  "language_info": {
   "codemirror_mode": {
    "name": "ipython",
    "version": 3
   },
   "file_extension": ".py",
   "mimetype": "text/x-python",
   "name": "python",
   "nbconvert_exporter": "python",
   "pygments_lexer": "ipython3",
   "version": "3.7.7"
  }
 },
 "nbformat": 4,
 "nbformat_minor": 2
}
